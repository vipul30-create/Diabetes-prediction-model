{
  "metadata": {
    "kernelspec": {
      "language": "python",
      "display_name": "Python 3",
      "name": "python3"
    },
    "language_info": {
      "name": "python",
      "version": "3.10.12",
      "mimetype": "text/x-python",
      "codemirror_mode": {
        "name": "ipython",
        "version": 3
      },
      "pygments_lexer": "ipython3",
      "nbconvert_exporter": "python",
      "file_extension": ".py"
    },
    "colab": {
      "provenance": [],
      "include_colab_link": true
    }
  },
  "nbformat_minor": 0,
  "nbformat": 4,
  "cells": [
    {
      "cell_type": "markdown",
      "metadata": {
        "id": "view-in-github",
        "colab_type": "text"
      },
      "source": [
        "<a href=\"https://colab.research.google.com/github/vipul30-create/Diabetes-prediction-model/blob/main/diabetes_prediction_model_ml.ipynb\" target=\"_parent\"><img src=\"https://colab.research.google.com/assets/colab-badge.svg\" alt=\"Open In Colab\"/></a>"
      ]
    },
    {
      "cell_type": "markdown",
      "source": [
        "# **Diabetes Prediction Model**"
      ],
      "metadata": {
        "id": "0c1mQQkEh4r-"
      }
    },
    {
      "cell_type": "markdown",
      "source": [
        "![24644952_Tiny doctors with glucometer flat vector illustration (1)...jpg](attachment:7e668641-f962-40de-869e-c58647c80592.jpg)"
      ],
      "metadata": {
        "id": "UfKCZDZCh4sA"
      }
    },
    {
      "cell_type": "markdown",
      "source": [
        "**Table of Content:**\n",
        "\n",
        "1. [Introduction](#1)\n",
        "1. [About the Dataset](#2)\n",
        "1. [Libraries and Utilities](#3)\n",
        "1. [Loading the Dataset](#4)\n",
        "1. [Exploratory Data Analysis (EDA)](#5)\n",
        "    1. [Analysis of Categorical Variables](#6)\n",
        "    1. [Analysis of Numeric Variables](#7)\n",
        "1. [Data Preprocessing](#8)\n",
        "    1. [Analysis of Target Variable](#9)\n",
        "    1. [Analysis of Outliers](#10)\n",
        "    1. [Analysis of Missing Values](#11)\n",
        "    1. [Prediction-Based Assignment Process for Missing Values](#12)\n",
        "    1. [ Correlation Analysis](#13)\n",
        "1. [Feature Engineering](#14)\n",
        "1. [Data Preprocessing for Modeling](#15)\n",
        "    1. [Encoding](#16)\n",
        "    1. [Feature Scaling](#17)\n",
        "1. [Model Building and Evaluation](#18)\n",
        "    1. [LogisticRegression](#19)\n",
        "    1. [KNN](#20)\n",
        "1. [Conclusion](#21)\n",
        "    \n",
        "\n",
        "\n",
        "\n"
      ],
      "metadata": {
        "id": "yL9BGzxah4sA"
      }
    },
    {
      "cell_type": "markdown",
      "source": [
        "<a id=\"1\"></a> <br>\n",
        "# 1. Introduction\n",
        "\n"
      ],
      "metadata": {
        "id": "6HtfpPh5h4sA"
      }
    },
    {
      "cell_type": "markdown",
      "source": [
        "The aim of this project is to develop 2 machine learning model that can predict whether individuals are diabetic based on various health-related features. By analyzing a subset of the comprehensive dataset obtained from the National Institute of Diabetes and Digestive and Kidney Diseases, the project seeks to employ data analysis, feature engineering, and machine learning techniques to create an accurate predictive model. ."
      ],
      "metadata": {
        "id": "2uoGztClh4sA"
      }
    },
    {
      "cell_type": "markdown",
      "source": [
        "<a id=\"2\"></a> <br>\n",
        "# 2. About the Dataset"
      ],
      "metadata": {
        "id": "fK980WZvh4sB"
      }
    },
    {
      "cell_type": "markdown",
      "source": [
        "Begin by gaining a clear understanding of the dataset sourced from the National Institute of Diabetes and Digestive and Kidney Diseases in the USA.\n",
        "\n",
        "* This dataset is a subset of a larger dataset, collected as part of a diabetes study conducted on Pima Indian women aged 21 and above residing in Phoenix, the largest city in the state of Arizona.\n",
        "\n",
        "* The dataset consists of 768 observations and 9 variables.\n",
        "\n",
        "* The target variable, \"outcome,\" indicates whether an individual tested positive (1) or negative (0) for diabetes."
      ],
      "metadata": {
        "id": "ldQ4NWI0h4sB"
      }
    },
    {
      "cell_type": "markdown",
      "source": [
        "**Variables**"
      ],
      "metadata": {
        "id": "BSicjHu6h4sB"
      }
    },
    {
      "cell_type": "markdown",
      "source": [
        "* Pregnancies: Number of pregnancies.\n",
        "* Glucose: 2-hour plasma glucose concentration from an oral glucose tolerance test.\n",
        "* Blood Pressure: Diastolic blood pressure (mm Hg).\n",
        "* Skin Thickness: Skinfold thickness.\n",
        "* Insulin: 2-hour serum insulin levels (mu U/ml).\n",
        "* Diabetes Pedigree Function: A function that indicates diabetes prevalence based on family history.\n",
        "* BMI (Body Mass Index): Weight-to-height ratio.\n",
        "* Age: Age in years.\n",
        "* Outcome: The target variable indicating diabetes outcome (1 = positive, 0 = negative).\n",
        "\n",
        "This dataset aims to predict whether individuals have diabetes based on these features."
      ],
      "metadata": {
        "id": "XSAElVsqh4sB"
      }
    },
    {
      "cell_type": "markdown",
      "source": [
        "<a id=\"3\"></a> <br>\n",
        "# 3. Libraries and Utilities"
      ],
      "metadata": {
        "id": "RQPFHgxCh4sB"
      }
    },
    {
      "cell_type": "code",
      "source": [
        "import warnings\n",
        "warnings.simplefilter(action='ignore')\n",
        "import pandas as pd\n",
        "import numpy as np\n",
        "import seaborn as sns\n",
        "import matplotlib.pyplot as plt\n",
        "\n",
        "\n",
        "# !pip install missingno\n",
        "import missingno as msno\n",
        "from sklearn.metrics import accuracy_score,classification_report, roc_auc_score,RocCurveDisplay\n",
        "from sklearn.model_selection import train_test_split, cross_validate, GridSearchCV\n",
        "from sklearn.neighbors import LocalOutlierFactor,KNeighborsClassifier\n",
        "from sklearn.preprocessing import MinMaxScaler, LabelEncoder, StandardScaler, RobustScaler\n",
        "from sklearn.linear_model import LogisticRegression\n",
        "from sklearn.ensemble import RandomForestClassifier\n",
        "\n",
        "pd.set_option('display.width', None)\n",
        "pd.set_option(\"display.expand_frame_repr\", False)\n",
        "pd.set_option('display.max_columns', None)\n",
        "pd.set_option('display.float_format', lambda x: '%.3f' % x)"
      ],
      "metadata": {
        "execution": {
          "iopub.status.busy": "2023-08-23T05:27:03.262654Z",
          "iopub.execute_input": "2023-08-23T05:27:03.263037Z",
          "iopub.status.idle": "2023-08-23T05:27:04.766111Z",
          "shell.execute_reply.started": "2023-08-23T05:27:03.263005Z",
          "shell.execute_reply": "2023-08-23T05:27:04.765129Z"
        },
        "trusted": true,
        "id": "cbHPE0Cxh4sC"
      },
      "execution_count": null,
      "outputs": []
    },
    {
      "cell_type": "markdown",
      "source": [
        "<a id=\"4\"></a> <br>\n",
        "# 4. Loading the Dataset"
      ],
      "metadata": {
        "id": "SfwrjZe3h4sC"
      }
    },
    {
      "cell_type": "code",
      "source": [
        "df=pd.read_csv(\"diabetes.csv\")\n",
        "df.head()"
      ],
      "metadata": {
        "execution": {
          "iopub.status.busy": "2023-08-23T05:27:09.741877Z",
          "iopub.execute_input": "2023-08-23T05:27:09.742279Z",
          "iopub.status.idle": "2023-08-23T05:27:09.798154Z",
          "shell.execute_reply.started": "2023-08-23T05:27:09.742247Z",
          "shell.execute_reply": "2023-08-23T05:27:09.797046Z"
        },
        "trusted": true,
        "colab": {
          "base_uri": "https://localhost:8080/",
          "height": 206
        },
        "id": "frMHNYRph4sC",
        "outputId": "82b967f3-0fdc-4ca7-95fa-24a7cf30901b"
      },
      "execution_count": null,
      "outputs": [
        {
          "output_type": "execute_result",
          "data": {
            "text/plain": [
              "   Pregnancies  Glucose  BloodPressure  SkinThickness  Insulin    BMI  DiabetesPedigreeFunction  Age  Outcome\n",
              "0            6      148             72             35        0 33.600                     0.627   50        1\n",
              "1            1       85             66             29        0 26.600                     0.351   31        0\n",
              "2            8      183             64              0        0 23.300                     0.672   32        1\n",
              "3            1       89             66             23       94 28.100                     0.167   21        0\n",
              "4            0      137             40             35      168 43.100                     2.288   33        1"
            ],
            "text/html": [
              "\n",
              "  <div id=\"df-0fc6e09a-729b-47b9-9d25-6e9b46c58352\" class=\"colab-df-container\">\n",
              "    <div>\n",
              "<style scoped>\n",
              "    .dataframe tbody tr th:only-of-type {\n",
              "        vertical-align: middle;\n",
              "    }\n",
              "\n",
              "    .dataframe tbody tr th {\n",
              "        vertical-align: top;\n",
              "    }\n",
              "\n",
              "    .dataframe thead th {\n",
              "        text-align: right;\n",
              "    }\n",
              "</style>\n",
              "<table border=\"1\" class=\"dataframe\">\n",
              "  <thead>\n",
              "    <tr style=\"text-align: right;\">\n",
              "      <th></th>\n",
              "      <th>Pregnancies</th>\n",
              "      <th>Glucose</th>\n",
              "      <th>BloodPressure</th>\n",
              "      <th>SkinThickness</th>\n",
              "      <th>Insulin</th>\n",
              "      <th>BMI</th>\n",
              "      <th>DiabetesPedigreeFunction</th>\n",
              "      <th>Age</th>\n",
              "      <th>Outcome</th>\n",
              "    </tr>\n",
              "  </thead>\n",
              "  <tbody>\n",
              "    <tr>\n",
              "      <th>0</th>\n",
              "      <td>6</td>\n",
              "      <td>148</td>\n",
              "      <td>72</td>\n",
              "      <td>35</td>\n",
              "      <td>0</td>\n",
              "      <td>33.600</td>\n",
              "      <td>0.627</td>\n",
              "      <td>50</td>\n",
              "      <td>1</td>\n",
              "    </tr>\n",
              "    <tr>\n",
              "      <th>1</th>\n",
              "      <td>1</td>\n",
              "      <td>85</td>\n",
              "      <td>66</td>\n",
              "      <td>29</td>\n",
              "      <td>0</td>\n",
              "      <td>26.600</td>\n",
              "      <td>0.351</td>\n",
              "      <td>31</td>\n",
              "      <td>0</td>\n",
              "    </tr>\n",
              "    <tr>\n",
              "      <th>2</th>\n",
              "      <td>8</td>\n",
              "      <td>183</td>\n",
              "      <td>64</td>\n",
              "      <td>0</td>\n",
              "      <td>0</td>\n",
              "      <td>23.300</td>\n",
              "      <td>0.672</td>\n",
              "      <td>32</td>\n",
              "      <td>1</td>\n",
              "    </tr>\n",
              "    <tr>\n",
              "      <th>3</th>\n",
              "      <td>1</td>\n",
              "      <td>89</td>\n",
              "      <td>66</td>\n",
              "      <td>23</td>\n",
              "      <td>94</td>\n",
              "      <td>28.100</td>\n",
              "      <td>0.167</td>\n",
              "      <td>21</td>\n",
              "      <td>0</td>\n",
              "    </tr>\n",
              "    <tr>\n",
              "      <th>4</th>\n",
              "      <td>0</td>\n",
              "      <td>137</td>\n",
              "      <td>40</td>\n",
              "      <td>35</td>\n",
              "      <td>168</td>\n",
              "      <td>43.100</td>\n",
              "      <td>2.288</td>\n",
              "      <td>33</td>\n",
              "      <td>1</td>\n",
              "    </tr>\n",
              "  </tbody>\n",
              "</table>\n",
              "</div>\n",
              "    <div class=\"colab-df-buttons\">\n",
              "\n",
              "  <div class=\"colab-df-container\">\n",
              "    <button class=\"colab-df-convert\" onclick=\"convertToInteractive('df-0fc6e09a-729b-47b9-9d25-6e9b46c58352')\"\n",
              "            title=\"Convert this dataframe to an interactive table.\"\n",
              "            style=\"display:none;\">\n",
              "\n",
              "  <svg xmlns=\"http://www.w3.org/2000/svg\" height=\"24px\" viewBox=\"0 -960 960 960\">\n",
              "    <path d=\"M120-120v-720h720v720H120Zm60-500h600v-160H180v160Zm220 220h160v-160H400v160Zm0 220h160v-160H400v160ZM180-400h160v-160H180v160Zm440 0h160v-160H620v160ZM180-180h160v-160H180v160Zm440 0h160v-160H620v160Z\"/>\n",
              "  </svg>\n",
              "    </button>\n",
              "\n",
              "  <style>\n",
              "    .colab-df-container {\n",
              "      display:flex;\n",
              "      gap: 12px;\n",
              "    }\n",
              "\n",
              "    .colab-df-convert {\n",
              "      background-color: #E8F0FE;\n",
              "      border: none;\n",
              "      border-radius: 50%;\n",
              "      cursor: pointer;\n",
              "      display: none;\n",
              "      fill: #1967D2;\n",
              "      height: 32px;\n",
              "      padding: 0 0 0 0;\n",
              "      width: 32px;\n",
              "    }\n",
              "\n",
              "    .colab-df-convert:hover {\n",
              "      background-color: #E2EBFA;\n",
              "      box-shadow: 0px 1px 2px rgba(60, 64, 67, 0.3), 0px 1px 3px 1px rgba(60, 64, 67, 0.15);\n",
              "      fill: #174EA6;\n",
              "    }\n",
              "\n",
              "    .colab-df-buttons div {\n",
              "      margin-bottom: 4px;\n",
              "    }\n",
              "\n",
              "    [theme=dark] .colab-df-convert {\n",
              "      background-color: #3B4455;\n",
              "      fill: #D2E3FC;\n",
              "    }\n",
              "\n",
              "    [theme=dark] .colab-df-convert:hover {\n",
              "      background-color: #434B5C;\n",
              "      box-shadow: 0px 1px 3px 1px rgba(0, 0, 0, 0.15);\n",
              "      filter: drop-shadow(0px 1px 2px rgba(0, 0, 0, 0.3));\n",
              "      fill: #FFFFFF;\n",
              "    }\n",
              "  </style>\n",
              "\n",
              "    <script>\n",
              "      const buttonEl =\n",
              "        document.querySelector('#df-0fc6e09a-729b-47b9-9d25-6e9b46c58352 button.colab-df-convert');\n",
              "      buttonEl.style.display =\n",
              "        google.colab.kernel.accessAllowed ? 'block' : 'none';\n",
              "\n",
              "      async function convertToInteractive(key) {\n",
              "        const element = document.querySelector('#df-0fc6e09a-729b-47b9-9d25-6e9b46c58352');\n",
              "        const dataTable =\n",
              "          await google.colab.kernel.invokeFunction('convertToInteractive',\n",
              "                                                    [key], {});\n",
              "        if (!dataTable) return;\n",
              "\n",
              "        const docLinkHtml = 'Like what you see? Visit the ' +\n",
              "          '<a target=\"_blank\" href=https://colab.research.google.com/notebooks/data_table.ipynb>data table notebook</a>'\n",
              "          + ' to learn more about interactive tables.';\n",
              "        element.innerHTML = '';\n",
              "        dataTable['output_type'] = 'display_data';\n",
              "        await google.colab.output.renderOutput(dataTable, element);\n",
              "        const docLink = document.createElement('div');\n",
              "        docLink.innerHTML = docLinkHtml;\n",
              "        element.appendChild(docLink);\n",
              "      }\n",
              "    </script>\n",
              "  </div>\n",
              "\n",
              "\n",
              "<div id=\"df-eb015540-a211-4db5-92d4-952a8b18ef81\">\n",
              "  <button class=\"colab-df-quickchart\" onclick=\"quickchart('df-eb015540-a211-4db5-92d4-952a8b18ef81')\"\n",
              "            title=\"Suggest charts.\"\n",
              "            style=\"display:none;\">\n",
              "\n",
              "<svg xmlns=\"http://www.w3.org/2000/svg\" height=\"24px\"viewBox=\"0 0 24 24\"\n",
              "     width=\"24px\">\n",
              "    <g>\n",
              "        <path d=\"M19 3H5c-1.1 0-2 .9-2 2v14c0 1.1.9 2 2 2h14c1.1 0 2-.9 2-2V5c0-1.1-.9-2-2-2zM9 17H7v-7h2v7zm4 0h-2V7h2v10zm4 0h-2v-4h2v4z\"/>\n",
              "    </g>\n",
              "</svg>\n",
              "  </button>\n",
              "\n",
              "<style>\n",
              "  .colab-df-quickchart {\n",
              "    background-color: #E8F0FE;\n",
              "    border: none;\n",
              "    border-radius: 50%;\n",
              "    cursor: pointer;\n",
              "    display: none;\n",
              "    fill: #1967D2;\n",
              "    height: 32px;\n",
              "    padding: 0 0 0 0;\n",
              "    width: 32px;\n",
              "  }\n",
              "\n",
              "  .colab-df-quickchart:hover {\n",
              "    background-color: #E2EBFA;\n",
              "    box-shadow: 0px 1px 2px rgba(60, 64, 67, 0.3), 0px 1px 3px 1px rgba(60, 64, 67, 0.15);\n",
              "    fill: #174EA6;\n",
              "  }\n",
              "\n",
              "  [theme=dark] .colab-df-quickchart {\n",
              "    background-color: #3B4455;\n",
              "    fill: #D2E3FC;\n",
              "  }\n",
              "\n",
              "  [theme=dark] .colab-df-quickchart:hover {\n",
              "    background-color: #434B5C;\n",
              "    box-shadow: 0px 1px 3px 1px rgba(0, 0, 0, 0.15);\n",
              "    filter: drop-shadow(0px 1px 2px rgba(0, 0, 0, 0.3));\n",
              "    fill: #FFFFFF;\n",
              "  }\n",
              "</style>\n",
              "\n",
              "  <script>\n",
              "    async function quickchart(key) {\n",
              "      const charts = await google.colab.kernel.invokeFunction(\n",
              "          'suggestCharts', [key], {});\n",
              "    }\n",
              "    (() => {\n",
              "      let quickchartButtonEl =\n",
              "        document.querySelector('#df-eb015540-a211-4db5-92d4-952a8b18ef81 button');\n",
              "      quickchartButtonEl.style.display =\n",
              "        google.colab.kernel.accessAllowed ? 'block' : 'none';\n",
              "    })();\n",
              "  </script>\n",
              "</div>\n",
              "    </div>\n",
              "  </div>\n"
            ]
          },
          "metadata": {},
          "execution_count": 5
        }
      ]
    },
    {
      "cell_type": "markdown",
      "source": [
        "<a id=\"5\"></a> <br>\n",
        "# 5. Exploratory Data Analysis (EDA)"
      ],
      "metadata": {
        "id": "acileTflh4sD"
      }
    },
    {
      "cell_type": "code",
      "source": [
        "df.info()\n"
      ],
      "metadata": {
        "execution": {
          "iopub.status.busy": "2023-08-23T05:27:13.202285Z",
          "iopub.execute_input": "2023-08-23T05:27:13.203164Z",
          "iopub.status.idle": "2023-08-23T05:27:13.229640Z",
          "shell.execute_reply.started": "2023-08-23T05:27:13.203113Z",
          "shell.execute_reply": "2023-08-23T05:27:13.228489Z"
        },
        "trusted": true,
        "colab": {
          "base_uri": "https://localhost:8080/"
        },
        "id": "NpIDuZshh4sD",
        "outputId": "5a4e64ac-459e-4f80-e2d0-922a2f24cca9"
      },
      "execution_count": null,
      "outputs": [
        {
          "output_type": "stream",
          "name": "stdout",
          "text": [
            "<class 'pandas.core.frame.DataFrame'>\n",
            "RangeIndex: 768 entries, 0 to 767\n",
            "Data columns (total 9 columns):\n",
            " #   Column                    Non-Null Count  Dtype  \n",
            "---  ------                    --------------  -----  \n",
            " 0   Pregnancies               768 non-null    int64  \n",
            " 1   Glucose                   768 non-null    int64  \n",
            " 2   BloodPressure             768 non-null    int64  \n",
            " 3   SkinThickness             768 non-null    int64  \n",
            " 4   Insulin                   768 non-null    int64  \n",
            " 5   BMI                       768 non-null    float64\n",
            " 6   DiabetesPedigreeFunction  768 non-null    float64\n",
            " 7   Age                       768 non-null    int64  \n",
            " 8   Outcome                   768 non-null    int64  \n",
            "dtypes: float64(2), int64(7)\n",
            "memory usage: 54.1 KB\n"
          ]
        }
      ]
    },
    {
      "cell_type": "code",
      "source": [
        "df.shape"
      ],
      "metadata": {
        "execution": {
          "iopub.status.busy": "2023-08-23T05:27:19.854541Z",
          "iopub.execute_input": "2023-08-23T05:27:19.854972Z",
          "iopub.status.idle": "2023-08-23T05:27:19.862439Z",
          "shell.execute_reply.started": "2023-08-23T05:27:19.854922Z",
          "shell.execute_reply": "2023-08-23T05:27:19.861237Z"
        },
        "trusted": true,
        "colab": {
          "base_uri": "https://localhost:8080/"
        },
        "id": "3QXOaW3Mh4sD",
        "outputId": "66636f3d-6bea-4149-d95d-f52dae03a19f"
      },
      "execution_count": null,
      "outputs": [
        {
          "output_type": "execute_result",
          "data": {
            "text/plain": [
              "(768, 9)"
            ]
          },
          "metadata": {},
          "execution_count": 7
        }
      ]
    },
    {
      "cell_type": "markdown",
      "source": [
        "Let's capture numeric and categorical variables."
      ],
      "metadata": {
        "id": "uY38IKzHh4sE"
      }
    },
    {
      "cell_type": "code",
      "source": [
        "cat_cols=[col for col in df.columns if (df[col].dtypes==\"O\") | ( df[col].nunique() < 10)]"
      ],
      "metadata": {
        "execution": {
          "iopub.status.busy": "2023-08-23T05:27:22.829480Z",
          "iopub.execute_input": "2023-08-23T05:27:22.829913Z",
          "iopub.status.idle": "2023-08-23T05:27:22.839141Z",
          "shell.execute_reply.started": "2023-08-23T05:27:22.829877Z",
          "shell.execute_reply": "2023-08-23T05:27:22.837975Z"
        },
        "trusted": true,
        "id": "D3KU2NDyh4sE"
      },
      "execution_count": null,
      "outputs": []
    },
    {
      "cell_type": "code",
      "source": [
        "cat_cols"
      ],
      "metadata": {
        "execution": {
          "iopub.status.busy": "2023-08-23T05:27:25.474856Z",
          "iopub.execute_input": "2023-08-23T05:27:25.475241Z",
          "iopub.status.idle": "2023-08-23T05:27:25.482892Z",
          "shell.execute_reply.started": "2023-08-23T05:27:25.475210Z",
          "shell.execute_reply": "2023-08-23T05:27:25.481367Z"
        },
        "trusted": true,
        "colab": {
          "base_uri": "https://localhost:8080/"
        },
        "id": "gbkeWpq4h4sE",
        "outputId": "3866ae6a-53df-4714-f6ad-171a3da8dd6a"
      },
      "execution_count": null,
      "outputs": [
        {
          "output_type": "execute_result",
          "data": {
            "text/plain": [
              "['Outcome']"
            ]
          },
          "metadata": {},
          "execution_count": 9
        }
      ]
    },
    {
      "cell_type": "code",
      "source": [
        "num_cols=[col for col in df.columns if (df[col].dtypes in [\"float\", \"int\"]) and ( df[col].nunique()> 10)]"
      ],
      "metadata": {
        "execution": {
          "iopub.status.busy": "2023-08-23T05:27:28.841787Z",
          "iopub.execute_input": "2023-08-23T05:27:28.842205Z",
          "iopub.status.idle": "2023-08-23T05:27:28.850536Z",
          "shell.execute_reply.started": "2023-08-23T05:27:28.842174Z",
          "shell.execute_reply": "2023-08-23T05:27:28.849170Z"
        },
        "trusted": true,
        "id": "JU7Qdydph4sE"
      },
      "execution_count": null,
      "outputs": []
    },
    {
      "cell_type": "code",
      "source": [
        "num_cols"
      ],
      "metadata": {
        "execution": {
          "iopub.status.busy": "2023-08-23T05:27:32.503674Z",
          "iopub.execute_input": "2023-08-23T05:27:32.504108Z",
          "iopub.status.idle": "2023-08-23T05:27:32.511598Z",
          "shell.execute_reply.started": "2023-08-23T05:27:32.504059Z",
          "shell.execute_reply": "2023-08-23T05:27:32.510511Z"
        },
        "trusted": true,
        "colab": {
          "base_uri": "https://localhost:8080/"
        },
        "id": "B0mP4niph4sF",
        "outputId": "7db51d82-a14a-42ce-b88c-f5d925aa951d"
      },
      "execution_count": null,
      "outputs": [
        {
          "output_type": "execute_result",
          "data": {
            "text/plain": [
              "['Pregnancies',\n",
              " 'Glucose',\n",
              " 'BloodPressure',\n",
              " 'SkinThickness',\n",
              " 'Insulin',\n",
              " 'BMI',\n",
              " 'DiabetesPedigreeFunction',\n",
              " 'Age']"
            ]
          },
          "metadata": {},
          "execution_count": 11
        }
      ]
    },
    {
      "cell_type": "markdown",
      "source": [
        "<a id=\"6\"></a> <br>\n",
        "# Analysis of Categorical Variables"
      ],
      "metadata": {
        "id": "nwuVu62Vh4sF"
      }
    },
    {
      "cell_type": "code",
      "source": [
        "def cat_summary(dataframe,cat_cols ,plot=False):\n",
        "\n",
        "    for col in cat_cols:\n",
        "        print (f\" {col} : \\n{dataframe[col].value_counts()}\\n\")\n",
        "\n",
        "    if plot:\n",
        "\n",
        "        sns.countplot(x=dataframe[col], data=dataframe)\n",
        "        plt.show(block=True)"
      ],
      "metadata": {
        "execution": {
          "iopub.status.busy": "2023-08-23T05:27:38.022742Z",
          "iopub.execute_input": "2023-08-23T05:27:38.024014Z",
          "iopub.status.idle": "2023-08-23T05:27:38.030675Z",
          "shell.execute_reply.started": "2023-08-23T05:27:38.023974Z",
          "shell.execute_reply": "2023-08-23T05:27:38.029542Z"
        },
        "trusted": true,
        "id": "x0Spe6juh4sF"
      },
      "execution_count": null,
      "outputs": []
    },
    {
      "cell_type": "code",
      "source": [
        "for col in cat_cols:\n",
        "    cat_summary(df, cat_cols, plot=True)"
      ],
      "metadata": {
        "execution": {
          "iopub.status.busy": "2023-08-23T05:27:41.355646Z",
          "iopub.execute_input": "2023-08-23T05:27:41.356942Z",
          "iopub.status.idle": "2023-08-23T05:27:41.609191Z",
          "shell.execute_reply.started": "2023-08-23T05:27:41.356901Z",
          "shell.execute_reply": "2023-08-23T05:27:41.608012Z"
        },
        "trusted": true,
        "colab": {
          "base_uri": "https://localhost:8080/",
          "height": 536
        },
        "id": "3pX8mwHIh4sF",
        "outputId": "5c1c35f5-ece8-4cf8-8a18-d6300cfeefab"
      },
      "execution_count": null,
      "outputs": [
        {
          "output_type": "stream",
          "name": "stdout",
          "text": [
            " Outcome : \n",
            "0    500\n",
            "1    268\n",
            "Name: Outcome, dtype: int64\n",
            "\n"
          ]
        },
        {
          "output_type": "display_data",
          "data": {
            "text/plain": [
              "<Figure size 640x480 with 1 Axes>"
            ],
            "image/png": "[encoded data removed]"
          },
          "metadata": {}
        }
      ]
    },
    {
      "cell_type": "markdown",
      "source": [
        "<a id=\"7\"></a> <br>\n",
        "# Analysis of Numeric Variables"
      ],
      "metadata": {
        "id": "CUnHMpcCh4sF"
      }
    },
    {
      "cell_type": "code",
      "source": [
        "def num_summary(dataframe, num_col , plot=False):\n",
        "\n",
        "    quantiles=[0.05, 0.10, 0.20, 0.30, 0.40, 0.50, 0.60, 0.70, 0.80, 0.90, 0.95, 0.99]\n",
        "\n",
        "    print(dataframe[num_col].describe(quantiles).T)\n",
        "\n",
        "    if plot:\n",
        "\n",
        "        dataframe[num_col].hist(bins=20)\n",
        "        plt.xlabel(num_col)\n",
        "        plt.title(num_col)\n",
        "        plt.show(block=True)"
      ],
      "metadata": {
        "execution": {
          "iopub.status.busy": "2023-08-23T05:27:45.240133Z",
          "iopub.execute_input": "2023-08-23T05:27:45.240582Z",
          "iopub.status.idle": "2023-08-23T05:27:45.248843Z",
          "shell.execute_reply.started": "2023-08-23T05:27:45.240546Z",
          "shell.execute_reply": "2023-08-23T05:27:45.247353Z"
        },
        "trusted": true,
        "id": "eBPt0tXXh4sF"
      },
      "execution_count": null,
      "outputs": []
    },
    {
      "cell_type": "code",
      "source": [
        "for col in num_cols:\n",
        "    num_summary(df, col, plot=True)"
      ],
      "metadata": {
        "execution": {
          "iopub.status.busy": "2023-08-23T02:50:53.430097Z",
          "iopub.execute_input": "2023-08-23T02:50:53.430546Z",
          "iopub.status.idle": "2023-08-23T02:50:55.901602Z",
          "shell.execute_reply.started": "2023-08-23T02:50:53.430510Z",
          "shell.execute_reply": "2023-08-23T02:50:55.900403Z"
        },
        "trusted": true,
        "id": "MJYi8ToBh4sG",
        "outputId": "547aefed-06b2-4fb5-b7d3-03033ec6dc19"
      },
      "execution_count": null,
      "outputs": [
        {
          "name": "stdout",
          "text": "count   768.000\nmean      3.845\nstd       3.370\nmin       0.000\n5%        0.000\n10%       0.000\n20%       1.000\n30%       1.000\n40%       2.000\n50%       3.000\n60%       4.000\n70%       5.000\n80%       7.000\n90%       9.000\n95%      10.000\n99%      13.000\nmax      17.000\nName: Pregnancies, dtype: float64\n",
          "output_type": "stream"
        },
        {
          "output_type": "display_data",
          "data": {
            "text/plain": "<Figure size 640x480 with 1 Axes>",
            "image/png": "[encoded data removed]"
          },
          "metadata": {}
        },
        {
          "name": "stdout",
          "text": "count   768.000\nmean    120.895\nstd      31.973\nmin       0.000\n5%       79.000\n10%      85.000\n20%      95.000\n30%     102.000\n40%     109.000\n50%     117.000\n60%     125.000\n70%     134.000\n80%     147.000\n90%     167.000\n95%     181.000\n99%     196.000\nmax     199.000\nName: Glucose, dtype: float64\n",
          "output_type": "stream"
        },
        {
          "output_type": "display_data",
          "data": {
            "text/plain": "<Figure size 640x480 with 1 Axes>",
            "image/png": "[encoded data removed]"
          },
          "metadata": {}
        },
        {
          "name": "stdout",
          "text": "count   768.000\nmean     69.105\nstd      19.356\nmin       0.000\n5%       38.700\n10%      54.000\n20%      60.000\n30%      64.000\n40%      68.000\n50%      72.000\n60%      74.000\n70%      78.000\n80%      82.000\n90%      88.000\n95%      90.000\n99%     106.000\nmax     122.000\nName: BloodPressure, dtype: float64\n",
          "output_type": "stream"
        },
        {
          "output_type": "display_data",
          "data": {
            "text/plain": "<Figure size 640x480 with 1 Axes>",
            "image/png": "[encoded data removed]"
          },
          "metadata": {}
        },
        {
          "name": "stdout",
          "text": "count   768.000\nmean     20.536\nstd      15.952\nmin       0.000\n5%        0.000\n10%       0.000\n20%       0.000\n30%       8.200\n40%      18.000\n50%      23.000\n60%      27.000\n70%      31.000\n80%      35.000\n90%      40.000\n95%      44.000\n99%      51.330\nmax      99.000\nName: SkinThickness, dtype: float64\n",
          "output_type": "stream"
        },
        {
          "output_type": "display_data",
          "data": {
            "text/plain": "<Figure size 640x480 with 1 Axes>",
            "image/png": "[encoded data removed]"
          },
          "metadata": {}
        },
        {
          "name": "stdout",
          "text": "count   768.000\nmean     79.799\nstd     115.244\nmin       0.000\n5%        0.000\n10%       0.000\n20%       0.000\n30%       0.000\n40%       0.000\n50%      30.500\n60%      72.200\n70%     106.000\n80%     150.000\n90%     210.000\n95%     293.000\n99%     519.900\nmax     846.000\nName: Insulin, dtype: float64\n",
          "output_type": "stream"
        },
        {
          "output_type": "display_data",
          "data": {
            "text/plain": "<Figure size 640x480 with 1 Axes>",
            "image/png": "[encoded data removed]"
          },
          "metadata": {}
        },
        {
          "name": "stdout",
          "text": "count   768.000\nmean     31.993\nstd       7.884\nmin       0.000\n5%       21.800\n10%      23.600\n20%      25.900\n30%      28.200\n40%      30.100\n50%      32.000\n60%      33.700\n70%      35.490\n80%      37.800\n90%      41.500\n95%      44.395\n99%      50.759\nmax      67.100\nName: BMI, dtype: float64\n",
          "output_type": "stream"
        },
        {
          "output_type": "display_data",
          "data": {
            "text/plain": "<Figure size 640x480 with 1 Axes>",
            "image/png": "[encoded data removed]"
          },
          "metadata": {}
        },
        {
          "name": "stdout",
          "text": "count   768.000\nmean      0.472\nstd       0.331\nmin       0.078\n5%        0.140\n10%       0.165\n20%       0.219\n30%       0.259\n40%       0.303\n50%       0.372\n60%       0.454\n70%       0.564\n80%       0.687\n90%       0.879\n95%       1.133\n99%       1.698\nmax       2.420\nName: DiabetesPedigreeFunction, dtype: float64\n",
          "output_type": "stream"
        },
        {
          "output_type": "display_data",
          "data": {
            "text/plain": "<Figure size 640x480 with 1 Axes>",
            "image/png": "[encoded data removed]"
          },
          "metadata": {}
        },
        {
          "name": "stdout",
          "text": "count   768.000\nmean     33.241\nstd      11.760\nmin      21.000\n5%       21.000\n10%      22.000\n20%      23.000\n30%      25.000\n40%      27.000\n50%      29.000\n60%      33.000\n70%      38.000\n80%      42.600\n90%      51.000\n95%      58.000\n99%      67.000\nmax      81.000\nName: Age, dtype: float64\n",
          "output_type": "stream"
        },
        {
          "output_type": "display_data",
          "data": {
            "text/plain": "<Figure size 640x480 with 1 Axes>",
            "image/png": "[encoded data removed]"
          },
          "metadata": {}
        }
      ]
    },
    {
      "cell_type": "markdown",
      "source": [
        "<a id=\"8\"></a> <br>\n",
        "# 6. Data Preprocessing"
      ],
      "metadata": {
        "id": "bJpiViTRh4sG"
      }
    },
    {
      "cell_type": "markdown",
      "source": [
        "<a id=\"9\"></a> <br>\n",
        "# Analysis of Target Variable"
      ],
      "metadata": {
        "id": "CPkGDZLOh4sG"
      }
    },
    {
      "cell_type": "code",
      "source": [
        "for col in num_cols:\n",
        "    print (pd.DataFrame({col + \"_mean\" :df.groupby(\"Outcome\")[col].mean()}), end=\"\\n\\n\")\n",
        "    print(\"---------------------------------------------\")"
      ],
      "metadata": {
        "execution": {
          "iopub.status.busy": "2023-08-23T05:27:55.329834Z",
          "iopub.execute_input": "2023-08-23T05:27:55.330245Z",
          "iopub.status.idle": "2023-08-23T05:27:55.354421Z",
          "shell.execute_reply.started": "2023-08-23T05:27:55.330213Z",
          "shell.execute_reply": "2023-08-23T05:27:55.353053Z"
        },
        "trusted": true,
        "colab": {
          "base_uri": "https://localhost:8080/"
        },
        "id": "dBQjAnqvh4sG",
        "outputId": "20e40277-4dd1-4cd6-ec2c-2a90e57577c7"
      },
      "execution_count": null,
      "outputs": [
        {
          "output_type": "stream",
          "name": "stdout",
          "text": [
            "         Pregnancies_mean\n",
            "Outcome                  \n",
            "0                   3.298\n",
            "1                   4.866\n",
            "\n",
            "---------------------------------------------\n",
            "         Glucose_mean\n",
            "Outcome              \n",
            "0             109.980\n",
            "1             141.257\n",
            "\n",
            "---------------------------------------------\n",
            "         BloodPressure_mean\n",
            "Outcome                    \n",
            "0                    68.184\n",
            "1                    70.825\n",
            "\n",
            "---------------------------------------------\n",
            "         SkinThickness_mean\n",
            "Outcome                    \n",
            "0                    19.664\n",
            "1                    22.164\n",
            "\n",
            "---------------------------------------------\n",
            "         Insulin_mean\n",
            "Outcome              \n",
            "0              68.792\n",
            "1             100.336\n",
            "\n",
            "---------------------------------------------\n",
            "         BMI_mean\n",
            "Outcome          \n",
            "0          30.304\n",
            "1          35.143\n",
            "\n",
            "---------------------------------------------\n",
            "         DiabetesPedigreeFunction_mean\n",
            "Outcome                               \n",
            "0                                0.430\n",
            "1                                0.550\n",
            "\n",
            "---------------------------------------------\n",
            "         Age_mean\n",
            "Outcome          \n",
            "0          31.190\n",
            "1          37.067\n",
            "\n",
            "---------------------------------------------\n"
          ]
        }
      ]
    },
    {
      "cell_type": "code",
      "source": [
        "def outlier_thresholds(dataframe ,col ,q1=.05 , q3=.95, decimal=3) :\n",
        "\n",
        "    quartile1=dataframe[col].quantile(q1)\n",
        "    quartile3=dataframe[col].quantile(q3)\n",
        "    iqr=quartile3-quartile1\n",
        "    low_limit= round(quartile1 - (iqr*1.5) , decimal)\n",
        "    up_limit= round(quartile3 + (iqr*1.5), decimal)\n",
        "    return low_limit , up_limit"
      ],
      "metadata": {
        "execution": {
          "iopub.status.busy": "2023-08-23T05:27:58.746865Z",
          "iopub.execute_input": "2023-08-23T05:27:58.748091Z",
          "iopub.status.idle": "2023-08-23T05:27:58.754022Z",
          "shell.execute_reply.started": "2023-08-23T05:27:58.748049Z",
          "shell.execute_reply": "2023-08-23T05:27:58.752991Z"
        },
        "trusted": true,
        "id": "gsjjNxHEh4sG"
      },
      "execution_count": null,
      "outputs": []
    },
    {
      "cell_type": "markdown",
      "source": [
        "<a id=\"10\"></a> <br>\n",
        "# Analysis of Outliers"
      ],
      "metadata": {
        "id": "3AT5MVG9h4sG"
      }
    },
    {
      "cell_type": "code",
      "source": [
        "for col in num_cols:\n",
        "    print(col , \":\" , outlier_thresholds(df, col), end=\"\\n\\n\")"
      ],
      "metadata": {
        "execution": {
          "iopub.status.busy": "2023-08-23T05:28:02.616232Z",
          "iopub.execute_input": "2023-08-23T05:28:02.617411Z",
          "iopub.status.idle": "2023-08-23T05:28:02.643839Z",
          "shell.execute_reply.started": "2023-08-23T05:28:02.617376Z",
          "shell.execute_reply": "2023-08-23T05:28:02.642637Z"
        },
        "trusted": true,
        "colab": {
          "base_uri": "https://localhost:8080/"
        },
        "id": "Izh09ZPTh4sG",
        "outputId": "035169f4-9c44-47c0-8081-8affbd0a8e88"
      },
      "execution_count": null,
      "outputs": [
        {
          "output_type": "stream",
          "name": "stdout",
          "text": [
            "Pregnancies : (-15.0, 25.0)\n",
            "\n",
            "Glucose : (-74.0, 334.0)\n",
            "\n",
            "BloodPressure : (-38.25, 166.95)\n",
            "\n",
            "SkinThickness : (-66.0, 110.0)\n",
            "\n",
            "Insulin : (-439.5, 732.5)\n",
            "\n",
            "BMI : (-12.092, 78.288)\n",
            "\n",
            "DiabetesPedigreeFunction : (-1.348, 2.622)\n",
            "\n",
            "Age : (-34.5, 113.5)\n",
            "\n"
          ]
        }
      ]
    },
    {
      "cell_type": "code",
      "source": [
        "def check_outliers(dataframe, col , q1=.05 ,q3=.95):\n",
        "    low ,up= outlier_thresholds(dataframe,col, q1, q3 )\n",
        "    if dataframe[(dataframe[col] < low) | (dataframe[col] > up)].any(axis=None):\n",
        "        return True\n",
        "    else:\n",
        "        return False"
      ],
      "metadata": {
        "execution": {
          "iopub.status.busy": "2023-08-23T05:28:06.667296Z",
          "iopub.execute_input": "2023-08-23T05:28:06.668016Z",
          "iopub.status.idle": "2023-08-23T05:28:06.673616Z",
          "shell.execute_reply.started": "2023-08-23T05:28:06.667981Z",
          "shell.execute_reply": "2023-08-23T05:28:06.672400Z"
        },
        "trusted": true,
        "id": "fCjZbKc1h4sH"
      },
      "execution_count": null,
      "outputs": []
    },
    {
      "cell_type": "code",
      "source": [
        "for col in num_cols:\n",
        "    print(col ,\":\", check_outliers(df, col),end=\"\\n\\n\")\n"
      ],
      "metadata": {
        "execution": {
          "iopub.status.busy": "2023-08-23T05:28:09.751233Z",
          "iopub.execute_input": "2023-08-23T05:28:09.751666Z",
          "iopub.status.idle": "2023-08-23T05:28:09.786621Z",
          "shell.execute_reply.started": "2023-08-23T05:28:09.751630Z",
          "shell.execute_reply": "2023-08-23T05:28:09.785545Z"
        },
        "trusted": true,
        "colab": {
          "base_uri": "https://localhost:8080/"
        },
        "id": "ojJdhlckh4sH",
        "outputId": "0b26f65c-becb-475d-fee3-24d6b406c95d"
      },
      "execution_count": null,
      "outputs": [
        {
          "output_type": "stream",
          "name": "stdout",
          "text": [
            "Pregnancies : False\n",
            "\n",
            "Glucose : False\n",
            "\n",
            "BloodPressure : False\n",
            "\n",
            "SkinThickness : False\n",
            "\n",
            "Insulin : True\n",
            "\n",
            "BMI : False\n",
            "\n",
            "DiabetesPedigreeFunction : False\n",
            "\n",
            "Age : False\n",
            "\n"
          ]
        }
      ]
    },
    {
      "cell_type": "code",
      "source": [
        "def grab_outliers(dataframe, col, index=False):\n",
        "    low, up = outlier_thresholds(dataframe,col )\n",
        "\n",
        "    if dataframe[((dataframe[col] < low) | (dataframe[col] > up))].shape[0] > 0 :\n",
        "        print(dataframe[((dataframe[col] < low) | (dataframe[col] > up))])\n",
        "    if index:\n",
        "        indeces= dataframe[((dataframe[col] < low) | (dataframe[col] > up))].index\n",
        "        return indeces"
      ],
      "metadata": {
        "execution": {
          "iopub.status.busy": "2023-08-23T05:28:12.539608Z",
          "iopub.execute_input": "2023-08-23T05:28:12.540002Z",
          "iopub.status.idle": "2023-08-23T05:28:12.547580Z",
          "shell.execute_reply.started": "2023-08-23T05:28:12.539971Z",
          "shell.execute_reply": "2023-08-23T05:28:12.546025Z"
        },
        "trusted": true,
        "id": "7nwNFqS7h4sH"
      },
      "execution_count": null,
      "outputs": []
    },
    {
      "cell_type": "code",
      "source": [
        "for col in num_cols:\n",
        "    print(grab_outliers(df , col , index=False))"
      ],
      "metadata": {
        "execution": {
          "iopub.status.busy": "2023-08-23T05:28:15.972902Z",
          "iopub.execute_input": "2023-08-23T05:28:15.973311Z",
          "iopub.status.idle": "2023-08-23T05:28:16.005463Z",
          "shell.execute_reply.started": "2023-08-23T05:28:15.973280Z",
          "shell.execute_reply": "2023-08-23T05:28:16.004282Z"
        },
        "trusted": true,
        "colab": {
          "base_uri": "https://localhost:8080/"
        },
        "id": "zFqDXaCih4sH",
        "outputId": "d16164fa-a983-4f0b-e800-b60321124218"
      },
      "execution_count": null,
      "outputs": [
        {
          "output_type": "stream",
          "name": "stdout",
          "text": [
            "None\n",
            "None\n",
            "None\n",
            "None\n",
            "     Pregnancies  Glucose  BloodPressure  SkinThickness  Insulin    BMI  DiabetesPedigreeFunction  Age  Outcome\n",
            "13             1      189             60             23      846 30.100                     0.398   59        1\n",
            "228            4      197             70             39      744 36.700                     2.329   31        0\n",
            "None\n",
            "None\n",
            "None\n",
            "None\n"
          ]
        }
      ]
    },
    {
      "cell_type": "code",
      "source": [
        "def boxplot_outliers(dataframe, col):\n",
        "    plt.figure(figsize=(5, 5))\n",
        "    sns.boxplot(x=dataframe[col])\n",
        "    plt.show(block=True)"
      ],
      "metadata": {
        "execution": {
          "iopub.status.busy": "2023-08-23T05:28:18.901521Z",
          "iopub.execute_input": "2023-08-23T05:28:18.901968Z",
          "iopub.status.idle": "2023-08-23T05:28:18.907541Z",
          "shell.execute_reply.started": "2023-08-23T05:28:18.901920Z",
          "shell.execute_reply": "2023-08-23T05:28:18.906465Z"
        },
        "trusted": true,
        "id": "StqBy-orh4sH"
      },
      "execution_count": null,
      "outputs": []
    },
    {
      "cell_type": "code",
      "source": [
        "for col in num_cols:\n",
        "    boxplot_outliers(df, col)"
      ],
      "metadata": {
        "execution": {
          "iopub.status.busy": "2023-08-23T05:28:22.769069Z",
          "iopub.execute_input": "2023-08-23T05:28:22.769464Z",
          "iopub.status.idle": "2023-08-23T05:28:24.353233Z",
          "shell.execute_reply.started": "2023-08-23T05:28:22.769433Z",
          "shell.execute_reply": "2023-08-23T05:28:24.352141Z"
        },
        "trusted": true,
        "colab": {
          "base_uri": "https://localhost:8080/",
          "height": 1000
        },
        "id": "BaGN4FV4h4sH",
        "outputId": "fcc3b91c-b2d4-4379-fd88-80108e2db535"
      },
      "execution_count": null,
      "outputs": [
        {
          "output_type": "display_data",
          "data": {
            "text/plain": [
              "<Figure size 500x500 with 1 Axes>"
            ],
            "image/png": "[encoded data removed]"
          },
          "metadata": {}
        },
        {
          "output_type": "display_data",
          "data": {
            "text/plain": [
              "<Figure size 500x500 with 1 Axes>"
            ],
            "image/png": "[encoded data removed]"
          },
          "metadata": {}
        },
        {
          "output_type": "display_data",
          "data": {
            "text/plain": [
              "<Figure size 500x500 with 1 Axes>"
            ],
            "image/png": "[encoded data removed]"
          },
          "metadata": {}
        },
        {
          "output_type": "display_data",
          "data": {
            "text/plain": [
              "<Figure size 500x500 with 1 Axes>"
            ],
            "image/png": "[encoded data removed]"
          },
          "metadata": {}
        },
        {
          "output_type": "display_data",
          "data": {
            "text/plain": [
              "<Figure size 500x500 with 1 Axes>"
            ],
            "image/png": "[encoded data removed]"
          },
          "metadata": {}
        },
        {
          "output_type": "display_data",
          "data": {
            "text/plain": [
              "<Figure size 500x500 with 1 Axes>"
            ],
            "image/png": "[encoded data removed]"
          },
          "metadata": {}
        },
        {
          "output_type": "display_data",
          "data": {
            "text/plain": [
              "<Figure size 500x500 with 1 Axes>"
            ],
            "image/png": "[encoded data removed]"
          },
          "metadata": {}
        },
        {
          "output_type": "display_data",
          "data": {
            "text/plain": [
              "<Figure size 500x500 with 1 Axes>"
            ],
            "image/png": "[encoded data removed]"
          },
          "metadata": {}
        }
      ]
    },
    {
      "cell_type": "code",
      "source": [
        "def replace_with_thresholds(dataframe, col_name, q1=.05, q3=.95):\n",
        "    low_limit, up_limit = outlier_thresholds(dataframe, col_name, q1, q3)\n",
        "    dataframe.loc[(dataframe[col_name] < low_limit), col_name] = low_limit\n",
        "    dataframe.loc[(dataframe[col_name] > up_limit), col_name] = up_limit"
      ],
      "metadata": {
        "execution": {
          "iopub.status.busy": "2023-08-23T05:28:29.358852Z",
          "iopub.execute_input": "2023-08-23T05:28:29.359298Z",
          "iopub.status.idle": "2023-08-23T05:28:29.365936Z",
          "shell.execute_reply.started": "2023-08-23T05:28:29.359255Z",
          "shell.execute_reply": "2023-08-23T05:28:29.364607Z"
        },
        "trusted": true,
        "id": "f1a_emcth4sO"
      },
      "execution_count": null,
      "outputs": []
    },
    {
      "cell_type": "code",
      "source": [
        "for col in num_cols:\n",
        "    replace_with_thresholds(df,col)"
      ],
      "metadata": {
        "execution": {
          "iopub.status.busy": "2023-08-23T05:28:32.142358Z",
          "iopub.execute_input": "2023-08-23T05:28:32.143016Z",
          "iopub.status.idle": "2023-08-23T05:28:32.171786Z",
          "shell.execute_reply.started": "2023-08-23T05:28:32.142981Z",
          "shell.execute_reply": "2023-08-23T05:28:32.170695Z"
        },
        "trusted": true,
        "id": "OWAw05W7h4sP"
      },
      "execution_count": null,
      "outputs": []
    },
    {
      "cell_type": "code",
      "source": [
        "for col in num_cols:\n",
        "    print(col ,\":\", check_outliers(df, col),end=\"\\n\\n\")\n"
      ],
      "metadata": {
        "execution": {
          "iopub.status.busy": "2023-08-23T05:28:35.243392Z",
          "iopub.execute_input": "2023-08-23T05:28:35.244484Z",
          "iopub.status.idle": "2023-08-23T05:28:35.281615Z",
          "shell.execute_reply.started": "2023-08-23T05:28:35.244434Z",
          "shell.execute_reply": "2023-08-23T05:28:35.280500Z"
        },
        "trusted": true,
        "colab": {
          "base_uri": "https://localhost:8080/"
        },
        "id": "wCcjmJmUh4sP",
        "outputId": "89a41e6a-1370-491f-92a8-da3d8ed11b0b"
      },
      "execution_count": null,
      "outputs": [
        {
          "output_type": "stream",
          "name": "stdout",
          "text": [
            "Pregnancies : False\n",
            "\n",
            "Glucose : False\n",
            "\n",
            "BloodPressure : False\n",
            "\n",
            "SkinThickness : False\n",
            "\n",
            "Insulin : False\n",
            "\n",
            "BMI : False\n",
            "\n",
            "DiabetesPedigreeFunction : False\n",
            "\n",
            "Age : False\n",
            "\n"
          ]
        }
      ]
    },
    {
      "cell_type": "markdown",
      "source": [
        "<a id=\"11\"></a> <br>\n",
        "# Analysis of Missing Values"
      ],
      "metadata": {
        "id": "VkJPOMJLh4sP"
      }
    },
    {
      "cell_type": "code",
      "source": [
        "def isnull_sum(dataframe ,col):\n",
        "    if dataframe[col].isnull().sum() > 0:\n",
        "        print(f\"{col} : { dataframe[col].isnull().sum()}\" , end=\"\\n\\n\")\n",
        "    else:\n",
        "        print(f\"{col} : no missing value\" , end=\"\\n\\n\")"
      ],
      "metadata": {
        "execution": {
          "iopub.status.busy": "2023-08-23T05:28:43.706975Z",
          "iopub.execute_input": "2023-08-23T05:28:43.707355Z",
          "iopub.status.idle": "2023-08-23T05:28:43.713390Z",
          "shell.execute_reply.started": "2023-08-23T05:28:43.707325Z",
          "shell.execute_reply": "2023-08-23T05:28:43.712258Z"
        },
        "trusted": true,
        "id": "4pCfd1qjh4sP"
      },
      "execution_count": null,
      "outputs": []
    },
    {
      "cell_type": "code",
      "source": [
        "for col in df.columns:\n",
        "    isnull_sum(df, col)"
      ],
      "metadata": {
        "execution": {
          "iopub.status.busy": "2023-08-23T05:28:47.177415Z",
          "iopub.execute_input": "2023-08-23T05:28:47.177793Z",
          "iopub.status.idle": "2023-08-23T05:28:47.186200Z",
          "shell.execute_reply.started": "2023-08-23T05:28:47.177763Z",
          "shell.execute_reply": "2023-08-23T05:28:47.184912Z"
        },
        "trusted": true,
        "id": "WZ2fiFZrh4sP",
        "outputId": "f226841a-d41f-4784-f9c5-be27acd957af"
      },
      "execution_count": null,
      "outputs": [
        {
          "name": "stdout",
          "text": "Pregnancies : no missing value\n\nGlucose : no missing value\n\nBloodPressure : no missing value\n\nSkinThickness : no missing value\n\nInsulin : no missing value\n\nBMI : no missing value\n\nDiabetesPedigreeFunction : no missing value\n\nAge : no missing value\n\nOutcome : no missing value\n\n",
          "output_type": "stream"
        }
      ]
    },
    {
      "cell_type": "markdown",
      "source": [
        "While there are no missing observations in the dataset, certain variables like \"Glucose,\" \"Insulin,\" and others may have instances with a value of 0, which could signify missing data. For instance, it's impossible for someone's glucose or insulin level to be 0. To handle this, we will treat these 0 values as NaN and proceed to create new groupings to handle missing values in the best way.\n",
        "\n",
        "Let's exclude \"Pregnancies\",\"DiabetesPedigreeFunction\" and \"Outcome\" since they may have 0 value."
      ],
      "metadata": {
        "id": "_yZG6rBph4sP"
      }
    },
    {
      "cell_type": "code",
      "source": [
        "target_cols=[col for col in df.columns if col not in [\"Pregnancies\",'DiabetesPedigreeFunction','Outcome']]"
      ],
      "metadata": {
        "execution": {
          "iopub.status.busy": "2023-08-23T05:28:51.406511Z",
          "iopub.execute_input": "2023-08-23T05:28:51.406938Z",
          "iopub.status.idle": "2023-08-23T05:28:51.413221Z",
          "shell.execute_reply.started": "2023-08-23T05:28:51.406903Z",
          "shell.execute_reply": "2023-08-23T05:28:51.411848Z"
        },
        "trusted": true,
        "id": "bmoGjmlfh4sP"
      },
      "execution_count": null,
      "outputs": []
    },
    {
      "cell_type": "code",
      "source": [
        "target_cols"
      ],
      "metadata": {
        "execution": {
          "iopub.status.busy": "2023-08-23T05:28:54.437235Z",
          "iopub.execute_input": "2023-08-23T05:28:54.437939Z",
          "iopub.status.idle": "2023-08-23T05:28:54.446096Z",
          "shell.execute_reply.started": "2023-08-23T05:28:54.437896Z",
          "shell.execute_reply": "2023-08-23T05:28:54.444664Z"
        },
        "trusted": true,
        "colab": {
          "base_uri": "https://localhost:8080/"
        },
        "id": "1yT-IEufh4sQ",
        "outputId": "dc9794df-f90d-43d8-ebe6-319c4494f449"
      },
      "execution_count": null,
      "outputs": [
        {
          "output_type": "execute_result",
          "data": {
            "text/plain": [
              "['Glucose', 'BloodPressure', 'SkinThickness', 'Insulin', 'BMI', 'Age']"
            ]
          },
          "metadata": {},
          "execution_count": 29
        }
      ]
    },
    {
      "cell_type": "code",
      "source": [
        "for col in target_cols:\n",
        "    df[col]=df[col].replace(0,np.nan)"
      ],
      "metadata": {
        "execution": {
          "iopub.status.busy": "2023-08-23T05:28:57.132685Z",
          "iopub.execute_input": "2023-08-23T05:28:57.133114Z",
          "iopub.status.idle": "2023-08-23T05:28:57.143482Z",
          "shell.execute_reply.started": "2023-08-23T05:28:57.133081Z",
          "shell.execute_reply": "2023-08-23T05:28:57.142353Z"
        },
        "trusted": true,
        "id": "1iVlW7xRh4sQ"
      },
      "execution_count": null,
      "outputs": []
    },
    {
      "cell_type": "code",
      "source": [
        "def missing_values(dataframe, na_name=False):\n",
        "\n",
        "    na_cols= [col for col in dataframe.columns if [dataframe[col].isnull().sum() > 0]]\n",
        "    miss_number= dataframe[na_cols].isnull().sum()\n",
        "    ratio=(dataframe[na_cols].isnull().sum() / dataframe.shape[0] * 100)\n",
        "    missing_df = pd.concat([miss_number, np.round(ratio, 2)], axis=1, keys=['miss_number', 'ratio'])\n",
        "    print(missing_df, end='\\n')\n",
        "\n",
        "    if na_name:\n",
        "        return na_cols"
      ],
      "metadata": {
        "execution": {
          "iopub.status.busy": "2023-08-23T05:28:59.580347Z",
          "iopub.execute_input": "2023-08-23T05:28:59.581208Z",
          "iopub.status.idle": "2023-08-23T05:28:59.588900Z",
          "shell.execute_reply.started": "2023-08-23T05:28:59.581171Z",
          "shell.execute_reply": "2023-08-23T05:28:59.587670Z"
        },
        "trusted": true,
        "id": "ZHnxmeRBh4sQ"
      },
      "execution_count": null,
      "outputs": []
    },
    {
      "cell_type": "code",
      "source": [
        "missing_values(df)"
      ],
      "metadata": {
        "execution": {
          "iopub.status.busy": "2023-08-23T05:29:02.537360Z",
          "iopub.execute_input": "2023-08-23T05:29:02.537770Z",
          "iopub.status.idle": "2023-08-23T05:29:02.553374Z",
          "shell.execute_reply.started": "2023-08-23T05:29:02.537734Z",
          "shell.execute_reply": "2023-08-23T05:29:02.552202Z"
        },
        "trusted": true,
        "colab": {
          "base_uri": "https://localhost:8080/"
        },
        "id": "mgFvCPa-h4sQ",
        "outputId": "248b87d0-1f9d-4fb9-e8a0-735ccba69cc6"
      },
      "execution_count": null,
      "outputs": [
        {
          "output_type": "stream",
          "name": "stdout",
          "text": [
            "                          miss_number  ratio\n",
            "Pregnancies                         0  0.000\n",
            "Glucose                             5  0.650\n",
            "BloodPressure                      35  4.560\n",
            "SkinThickness                     227 29.560\n",
            "Insulin                           374 48.700\n",
            "BMI                                11  1.430\n",
            "DiabetesPedigreeFunction            0  0.000\n",
            "Age                                 0  0.000\n",
            "Outcome                             0  0.000\n"
          ]
        }
      ]
    },
    {
      "cell_type": "markdown",
      "source": [
        "Let's examine the structure of missing data."
      ],
      "metadata": {
        "id": "TxRs7Nryh4sQ"
      }
    },
    {
      "cell_type": "code",
      "source": [
        "msno.bar(df, color=\"purple\", sort=\"ascending\", figsize=(8,5),fontsize=10) #provides the number of complete values in the dataset"
      ],
      "metadata": {
        "execution": {
          "iopub.status.busy": "2023-08-23T05:29:05.346015Z",
          "iopub.execute_input": "2023-08-23T05:29:05.346395Z",
          "iopub.status.idle": "2023-08-23T05:29:06.741925Z",
          "shell.execute_reply.started": "2023-08-23T05:29:05.346365Z",
          "shell.execute_reply": "2023-08-23T05:29:06.740830Z"
        },
        "trusted": true,
        "colab": {
          "base_uri": "https://localhost:8080/",
          "height": 625
        },
        "id": "G7ApwJpmh4sQ",
        "outputId": "f17e4dab-b973-46ce-efd5-56ddf0111283"
      },
      "execution_count": null,
      "outputs": [
        {
          "output_type": "execute_result",
          "data": {
            "text/plain": [
              "<Axes: >"
            ]
          },
          "metadata": {},
          "execution_count": 33
        },
        {
          "output_type": "display_data",
          "data": {
            "text/plain": [
              "<Figure size 800x500 with 3 Axes>"
            ],
            "image/png": "[encoded data removed]"
          },
          "metadata": {}
        }
      ]
    },
    {
      "cell_type": "code",
      "source": [
        "msno.matrix(df,color=(0.2, 0.5, 0.8),figsize=(8,5), fontsize=10) #it helps identify missing values in the dataset and their patterns"
      ],
      "metadata": {
        "execution": {
          "iopub.status.busy": "2023-08-23T05:29:10.883438Z",
          "iopub.execute_input": "2023-08-23T05:29:10.884105Z",
          "iopub.status.idle": "2023-08-23T05:29:11.410595Z",
          "shell.execute_reply.started": "2023-08-23T05:29:10.884070Z",
          "shell.execute_reply": "2023-08-23T05:29:11.409080Z"
        },
        "trusted": true,
        "colab": {
          "base_uri": "https://localhost:8080/",
          "height": 597
        },
        "id": "CuGu0mclh4sR",
        "outputId": "c264a3ad-5e13-48cd-fc69-374b331e4efe"
      },
      "execution_count": null,
      "outputs": [
        {
          "output_type": "execute_result",
          "data": {
            "text/plain": [
              "<Axes: >"
            ]
          },
          "metadata": {},
          "execution_count": 34
        },
        {
          "output_type": "display_data",
          "data": {
            "text/plain": [
              "<Figure size 800x500 with 2 Axes>"
            ],
            "image/png": "[encoded data removed]"
          },
          "metadata": {}
        }
      ]
    },
    {
      "cell_type": "code",
      "source": [
        "msno.heatmap(df,cmap=\"RdYlGn\", figsize=(10,5), fontsize=10)  #nullity correlation"
      ],
      "metadata": {
        "execution": {
          "iopub.status.busy": "2023-08-23T05:29:27.275296Z",
          "iopub.execute_input": "2023-08-23T05:29:27.275704Z",
          "iopub.status.idle": "2023-08-23T05:29:27.918685Z",
          "shell.execute_reply.started": "2023-08-23T05:29:27.275671Z",
          "shell.execute_reply": "2023-08-23T05:29:27.915624Z"
        },
        "trusted": true,
        "colab": {
          "base_uri": "https://localhost:8080/",
          "height": 533
        },
        "id": "Fm6F24trh4sR",
        "outputId": "28a28ac8-8994-40af-eccf-76f9a8ca34ce"
      },
      "execution_count": null,
      "outputs": [
        {
          "output_type": "execute_result",
          "data": {
            "text/plain": [
              "<Axes: >"
            ]
          },
          "metadata": {},
          "execution_count": 35
        },
        {
          "output_type": "display_data",
          "data": {
            "text/plain": [
              "<Figure size 1000x500 with 2 Axes>"
            ],
            "image/png": "[encoded data removed]"
          },
          "metadata": {}
        }
      ]
    },
    {
      "cell_type": "markdown",
      "source": [
        "Missing values of Insulin and SkinThickness may have appeared together."
      ],
      "metadata": {
        "id": "p8Cmy8oVh4sR"
      }
    },
    {
      "cell_type": "markdown",
      "source": [
        "<a id=\"12\"></a> <br>\n",
        "# Prediction-Based Assignment Process for Missing Values"
      ],
      "metadata": {
        "id": "g_7oe2lKh4sR"
      }
    },
    {
      "cell_type": "code",
      "source": [
        "scaler=MinMaxScaler()\n",
        "\n",
        "df=pd.DataFrame(scaler.fit_transform(df), columns=df.columns) #standardization of variables\n",
        "df.head()"
      ],
      "metadata": {
        "execution": {
          "iopub.status.busy": "2023-08-23T05:29:31.151005Z",
          "iopub.execute_input": "2023-08-23T05:29:31.151430Z",
          "iopub.status.idle": "2023-08-23T05:29:31.170707Z",
          "shell.execute_reply.started": "2023-08-23T05:29:31.151393Z",
          "shell.execute_reply": "2023-08-23T05:29:31.169457Z"
        },
        "trusted": true,
        "colab": {
          "base_uri": "https://localhost:8080/",
          "height": 206
        },
        "id": "jgesk0i-h4sR",
        "outputId": "74e54af0-f3de-4570-d16c-2595339a706a"
      },
      "execution_count": null,
      "outputs": [
        {
          "output_type": "execute_result",
          "data": {
            "text/plain": [
              "   Pregnancies  Glucose  BloodPressure  SkinThickness  Insulin   BMI  DiabetesPedigreeFunction   Age  Outcome\n",
              "0        0.353    0.671          0.490          0.304      NaN 0.315                     0.234 0.483    1.000\n",
              "1        0.059    0.265          0.429          0.239      NaN 0.172                     0.117 0.167    0.000\n",
              "2        0.471    0.897          0.408            NaN      NaN 0.104                     0.254 0.183    1.000\n",
              "3        0.059    0.290          0.429          0.174    0.111 0.202                     0.038 0.000    0.000\n",
              "4        0.000    0.600          0.163          0.304    0.214 0.509                     0.944 0.200    1.000"
            ],
            "text/html": [
              "\n",
              "  <div id=\"df-dac173dd-3a48-4779-a81f-5bd1ab993ad5\" class=\"colab-df-container\">\n",
              "    <div>\n",
              "<style scoped>\n",
              "    .dataframe tbody tr th:only-of-type {\n",
              "        vertical-align: middle;\n",
              "    }\n",
              "\n",
              "    .dataframe tbody tr th {\n",
              "        vertical-align: top;\n",
              "    }\n",
              "\n",
              "    .dataframe thead th {\n",
              "        text-align: right;\n",
              "    }\n",
              "</style>\n",
              "<table border=\"1\" class=\"dataframe\">\n",
              "  <thead>\n",
              "    <tr style=\"text-align: right;\">\n",
              "      <th></th>\n",
              "      <th>Pregnancies</th>\n",
              "      <th>Glucose</th>\n",
              "      <th>BloodPressure</th>\n",
              "      <th>SkinThickness</th>\n",
              "      <th>Insulin</th>\n",
              "      <th>BMI</th>\n",
              "      <th>DiabetesPedigreeFunction</th>\n",
              "      <th>Age</th>\n",
              "      <th>Outcome</th>\n",
              "    </tr>\n",
              "  </thead>\n",
              "  <tbody>\n",
              "    <tr>\n",
              "      <th>0</th>\n",
              "      <td>0.353</td>\n",
              "      <td>0.671</td>\n",
              "      <td>0.490</td>\n",
              "      <td>0.304</td>\n",
              "      <td>NaN</td>\n",
              "      <td>0.315</td>\n",
              "      <td>0.234</td>\n",
              "      <td>0.483</td>\n",
              "      <td>1.000</td>\n",
              "    </tr>\n",
              "    <tr>\n",
              "      <th>1</th>\n",
              "      <td>0.059</td>\n",
              "      <td>0.265</td>\n",
              "      <td>0.429</td>\n",
              "      <td>0.239</td>\n",
              "      <td>NaN</td>\n",
              "      <td>0.172</td>\n",
              "      <td>0.117</td>\n",
              "      <td>0.167</td>\n",
              "      <td>0.000</td>\n",
              "    </tr>\n",
              "    <tr>\n",
              "      <th>2</th>\n",
              "      <td>0.471</td>\n",
              "      <td>0.897</td>\n",
              "      <td>0.408</td>\n",
              "      <td>NaN</td>\n",
              "      <td>NaN</td>\n",
              "      <td>0.104</td>\n",
              "      <td>0.254</td>\n",
              "      <td>0.183</td>\n",
              "      <td>1.000</td>\n",
              "    </tr>\n",
              "    <tr>\n",
              "      <th>3</th>\n",
              "      <td>0.059</td>\n",
              "      <td>0.290</td>\n",
              "      <td>0.429</td>\n",
              "      <td>0.174</td>\n",
              "      <td>0.111</td>\n",
              "      <td>0.202</td>\n",
              "      <td>0.038</td>\n",
              "      <td>0.000</td>\n",
              "      <td>0.000</td>\n",
              "    </tr>\n",
              "    <tr>\n",
              "      <th>4</th>\n",
              "      <td>0.000</td>\n",
              "      <td>0.600</td>\n",
              "      <td>0.163</td>\n",
              "      <td>0.304</td>\n",
              "      <td>0.214</td>\n",
              "      <td>0.509</td>\n",
              "      <td>0.944</td>\n",
              "      <td>0.200</td>\n",
              "      <td>1.000</td>\n",
              "    </tr>\n",
              "  </tbody>\n",
              "</table>\n",
              "</div>\n",
              "    <div class=\"colab-df-buttons\">\n",
              "\n",
              "  <div class=\"colab-df-container\">\n",
              "    <button class=\"colab-df-convert\" onclick=\"convertToInteractive('df-dac173dd-3a48-4779-a81f-5bd1ab993ad5')\"\n",
              "            title=\"Convert this dataframe to an interactive table.\"\n",
              "            style=\"display:none;\">\n",
              "\n",
              "  <svg xmlns=\"http://www.w3.org/2000/svg\" height=\"24px\" viewBox=\"0 -960 960 960\">\n",
              "    <path d=\"M120-120v-720h720v720H120Zm60-500h600v-160H180v160Zm220 220h160v-160H400v160Zm0 220h160v-160H400v160ZM180-400h160v-160H180v160Zm440 0h160v-160H620v160ZM180-180h160v-160H180v160Zm440 0h160v-160H620v160Z\"/>\n",
              "  </svg>\n",
              "    </button>\n",
              "\n",
              "  <style>\n",
              "    .colab-df-container {\n",
              "      display:flex;\n",
              "      gap: 12px;\n",
              "    }\n",
              "\n",
              "    .colab-df-convert {\n",
              "      background-color: #E8F0FE;\n",
              "      border: none;\n",
              "      border-radius: 50%;\n",
              "      cursor: pointer;\n",
              "      display: none;\n",
              "      fill: #1967D2;\n",
              "      height: 32px;\n",
              "      padding: 0 0 0 0;\n",
              "      width: 32px;\n",
              "    }\n",
              "\n",
              "    .colab-df-convert:hover {\n",
              "      background-color: #E2EBFA;\n",
              "      box-shadow: 0px 1px 2px rgba(60, 64, 67, 0.3), 0px 1px 3px 1px rgba(60, 64, 67, 0.15);\n",
              "      fill: #174EA6;\n",
              "    }\n",
              "\n",
              "    .colab-df-buttons div {\n",
              "      margin-bottom: 4px;\n",
              "    }\n",
              "\n",
              "    [theme=dark] .colab-df-convert {\n",
              "      background-color: #3B4455;\n",
              "      fill: #D2E3FC;\n",
              "    }\n",
              "\n",
              "    [theme=dark] .colab-df-convert:hover {\n",
              "      background-color: #434B5C;\n",
              "      box-shadow: 0px 1px 3px 1px rgba(0, 0, 0, 0.15);\n",
              "      filter: drop-shadow(0px 1px 2px rgba(0, 0, 0, 0.3));\n",
              "      fill: #FFFFFF;\n",
              "    }\n",
              "  </style>\n",
              "\n",
              "    <script>\n",
              "      const buttonEl =\n",
              "        document.querySelector('#df-dac173dd-3a48-4779-a81f-5bd1ab993ad5 button.colab-df-convert');\n",
              "      buttonEl.style.display =\n",
              "        google.colab.kernel.accessAllowed ? 'block' : 'none';\n",
              "\n",
              "      async function convertToInteractive(key) {\n",
              "        const element = document.querySelector('#df-dac173dd-3a48-4779-a81f-5bd1ab993ad5');\n",
              "        const dataTable =\n",
              "          await google.colab.kernel.invokeFunction('convertToInteractive',\n",
              "                                                    [key], {});\n",
              "        if (!dataTable) return;\n",
              "\n",
              "        const docLinkHtml = 'Like what you see? Visit the ' +\n",
              "          '<a target=\"_blank\" href=https://colab.research.google.com/notebooks/data_table.ipynb>data table notebook</a>'\n",
              "          + ' to learn more about interactive tables.';\n",
              "        element.innerHTML = '';\n",
              "        dataTable['output_type'] = 'display_data';\n",
              "        await google.colab.output.renderOutput(dataTable, element);\n",
              "        const docLink = document.createElement('div');\n",
              "        docLink.innerHTML = docLinkHtml;\n",
              "        element.appendChild(docLink);\n",
              "      }\n",
              "    </script>\n",
              "  </div>\n",
              "\n",
              "\n",
              "<div id=\"df-49c26228-6abb-40c8-aa42-d20c26d3bf95\">\n",
              "  <button class=\"colab-df-quickchart\" onclick=\"quickchart('df-49c26228-6abb-40c8-aa42-d20c26d3bf95')\"\n",
              "            title=\"Suggest charts.\"\n",
              "            style=\"display:none;\">\n",
              "\n",
              "<svg xmlns=\"http://www.w3.org/2000/svg\" height=\"24px\"viewBox=\"0 0 24 24\"\n",
              "     width=\"24px\">\n",
              "    <g>\n",
              "        <path d=\"M19 3H5c-1.1 0-2 .9-2 2v14c0 1.1.9 2 2 2h14c1.1 0 2-.9 2-2V5c0-1.1-.9-2-2-2zM9 17H7v-7h2v7zm4 0h-2V7h2v10zm4 0h-2v-4h2v4z\"/>\n",
              "    </g>\n",
              "</svg>\n",
              "  </button>\n",
              "\n",
              "<style>\n",
              "  .colab-df-quickchart {\n",
              "    background-color: #E8F0FE;\n",
              "    border: none;\n",
              "    border-radius: 50%;\n",
              "    cursor: pointer;\n",
              "    display: none;\n",
              "    fill: #1967D2;\n",
              "    height: 32px;\n",
              "    padding: 0 0 0 0;\n",
              "    width: 32px;\n",
              "  }\n",
              "\n",
              "  .colab-df-quickchart:hover {\n",
              "    background-color: #E2EBFA;\n",
              "    box-shadow: 0px 1px 2px rgba(60, 64, 67, 0.3), 0px 1px 3px 1px rgba(60, 64, 67, 0.15);\n",
              "    fill: #174EA6;\n",
              "  }\n",
              "\n",
              "  [theme=dark] .colab-df-quickchart {\n",
              "    background-color: #3B4455;\n",
              "    fill: #D2E3FC;\n",
              "  }\n",
              "\n",
              "  [theme=dark] .colab-df-quickchart:hover {\n",
              "    background-color: #434B5C;\n",
              "    box-shadow: 0px 1px 3px 1px rgba(0, 0, 0, 0.15);\n",
              "    filter: drop-shadow(0px 1px 2px rgba(0, 0, 0, 0.3));\n",
              "    fill: #FFFFFF;\n",
              "  }\n",
              "</style>\n",
              "\n",
              "  <script>\n",
              "    async function quickchart(key) {\n",
              "      const charts = await google.colab.kernel.invokeFunction(\n",
              "          'suggestCharts', [key], {});\n",
              "    }\n",
              "    (() => {\n",
              "      let quickchartButtonEl =\n",
              "        document.querySelector('#df-49c26228-6abb-40c8-aa42-d20c26d3bf95 button');\n",
              "      quickchartButtonEl.style.display =\n",
              "        google.colab.kernel.accessAllowed ? 'block' : 'none';\n",
              "    })();\n",
              "  </script>\n",
              "</div>\n",
              "    </div>\n",
              "  </div>\n"
            ]
          },
          "metadata": {},
          "execution_count": 36
        }
      ]
    },
    {
      "cell_type": "code",
      "source": [
        "from sklearn.impute import KNNImputer\n",
        "imputer=KNNImputer(n_neighbors=5)\n",
        "\n",
        "df=pd.DataFrame(imputer.fit_transform(df), columns=df.columns)\n",
        "df.head()"
      ],
      "metadata": {
        "execution": {
          "iopub.status.busy": "2023-08-23T05:29:34.874901Z",
          "iopub.execute_input": "2023-08-23T05:29:34.875295Z",
          "iopub.status.idle": "2023-08-23T05:29:34.962779Z",
          "shell.execute_reply.started": "2023-08-23T05:29:34.875265Z",
          "shell.execute_reply": "2023-08-23T05:29:34.961646Z"
        },
        "trusted": true,
        "colab": {
          "base_uri": "https://localhost:8080/",
          "height": 206
        },
        "id": "z7oxSHXoh4sR",
        "outputId": "417e61ee-ee08-49a2-ffbb-0c657b739890"
      },
      "execution_count": null,
      "outputs": [
        {
          "output_type": "execute_result",
          "data": {
            "text/plain": [
              "   Pregnancies  Glucose  BloodPressure  SkinThickness  Insulin   BMI  DiabetesPedigreeFunction   Age  Outcome\n",
              "0        0.353    0.671          0.490          0.304    0.446 0.315                     0.234 0.483    1.000\n",
              "1        0.059    0.265          0.429          0.239    0.059 0.172                     0.117 0.167    0.000\n",
              "2        0.471    0.897          0.408          0.274    0.312 0.104                     0.254 0.183    1.000\n",
              "3        0.059    0.290          0.429          0.174    0.111 0.202                     0.038 0.000    0.000\n",
              "4        0.000    0.600          0.163          0.304    0.214 0.509                     0.944 0.200    1.000"
            ],
            "text/html": [
              "\n",
              "  <div id=\"df-8936d81a-c92b-41c7-abe9-4a4c60022d91\" class=\"colab-df-container\">\n",
              "    <div>\n",
              "<style scoped>\n",
              "    .dataframe tbody tr th:only-of-type {\n",
              "        vertical-align: middle;\n",
              "    }\n",
              "\n",
              "    .dataframe tbody tr th {\n",
              "        vertical-align: top;\n",
              "    }\n",
              "\n",
              "    .dataframe thead th {\n",
              "        text-align: right;\n",
              "    }\n",
              "</style>\n",
              "<table border=\"1\" class=\"dataframe\">\n",
              "  <thead>\n",
              "    <tr style=\"text-align: right;\">\n",
              "      <th></th>\n",
              "      <th>Pregnancies</th>\n",
              "      <th>Glucose</th>\n",
              "      <th>BloodPressure</th>\n",
              "      <th>SkinThickness</th>\n",
              "      <th>Insulin</th>\n",
              "      <th>BMI</th>\n",
              "      <th>DiabetesPedigreeFunction</th>\n",
              "      <th>Age</th>\n",
              "      <th>Outcome</th>\n",
              "    </tr>\n",
              "  </thead>\n",
              "  <tbody>\n",
              "    <tr>\n",
              "      <th>0</th>\n",
              "      <td>0.353</td>\n",
              "      <td>0.671</td>\n",
              "      <td>0.490</td>\n",
              "      <td>0.304</td>\n",
              "      <td>0.446</td>\n",
              "      <td>0.315</td>\n",
              "      <td>0.234</td>\n",
              "      <td>0.483</td>\n",
              "      <td>1.000</td>\n",
              "    </tr>\n",
              "    <tr>\n",
              "      <th>1</th>\n",
              "      <td>0.059</td>\n",
              "      <td>0.265</td>\n",
              "      <td>0.429</td>\n",
              "      <td>0.239</td>\n",
              "      <td>0.059</td>\n",
              "      <td>0.172</td>\n",
              "      <td>0.117</td>\n",
              "      <td>0.167</td>\n",
              "      <td>0.000</td>\n",
              "    </tr>\n",
              "    <tr>\n",
              "      <th>2</th>\n",
              "      <td>0.471</td>\n",
              "      <td>0.897</td>\n",
              "      <td>0.408</td>\n",
              "      <td>0.274</td>\n",
              "      <td>0.312</td>\n",
              "      <td>0.104</td>\n",
              "      <td>0.254</td>\n",
              "      <td>0.183</td>\n",
              "      <td>1.000</td>\n",
              "    </tr>\n",
              "    <tr>\n",
              "      <th>3</th>\n",
              "      <td>0.059</td>\n",
              "      <td>0.290</td>\n",
              "      <td>0.429</td>\n",
              "      <td>0.174</td>\n",
              "      <td>0.111</td>\n",
              "      <td>0.202</td>\n",
              "      <td>0.038</td>\n",
              "      <td>0.000</td>\n",
              "      <td>0.000</td>\n",
              "    </tr>\n",
              "    <tr>\n",
              "      <th>4</th>\n",
              "      <td>0.000</td>\n",
              "      <td>0.600</td>\n",
              "      <td>0.163</td>\n",
              "      <td>0.304</td>\n",
              "      <td>0.214</td>\n",
              "      <td>0.509</td>\n",
              "      <td>0.944</td>\n",
              "      <td>0.200</td>\n",
              "      <td>1.000</td>\n",
              "    </tr>\n",
              "  </tbody>\n",
              "</table>\n",
              "</div>\n",
              "    <div class=\"colab-df-buttons\">\n",
              "\n",
              "  <div class=\"colab-df-container\">\n",
              "    <button class=\"colab-df-convert\" onclick=\"convertToInteractive('df-8936d81a-c92b-41c7-abe9-4a4c60022d91')\"\n",
              "            title=\"Convert this dataframe to an interactive table.\"\n",
              "            style=\"display:none;\">\n",
              "\n",
              "  <svg xmlns=\"http://www.w3.org/2000/svg\" height=\"24px\" viewBox=\"0 -960 960 960\">\n",
              "    <path d=\"M120-120v-720h720v720H120Zm60-500h600v-160H180v160Zm220 220h160v-160H400v160Zm0 220h160v-160H400v160ZM180-400h160v-160H180v160Zm440 0h160v-160H620v160ZM180-180h160v-160H180v160Zm440 0h160v-160H620v160Z\"/>\n",
              "  </svg>\n",
              "    </button>\n",
              "\n",
              "  <style>\n",
              "    .colab-df-container {\n",
              "      display:flex;\n",
              "      gap: 12px;\n",
              "    }\n",
              "\n",
              "    .colab-df-convert {\n",
              "      background-color: #E8F0FE;\n",
              "      border: none;\n",
              "      border-radius: 50%;\n",
              "      cursor: pointer;\n",
              "      display: none;\n",
              "      fill: #1967D2;\n",
              "      height: 32px;\n",
              "      padding: 0 0 0 0;\n",
              "      width: 32px;\n",
              "    }\n",
              "\n",
              "    .colab-df-convert:hover {\n",
              "      background-color: #E2EBFA;\n",
              "      box-shadow: 0px 1px 2px rgba(60, 64, 67, 0.3), 0px 1px 3px 1px rgba(60, 64, 67, 0.15);\n",
              "      fill: #174EA6;\n",
              "    }\n",
              "\n",
              "    .colab-df-buttons div {\n",
              "      margin-bottom: 4px;\n",
              "    }\n",
              "\n",
              "    [theme=dark] .colab-df-convert {\n",
              "      background-color: #3B4455;\n",
              "      fill: #D2E3FC;\n",
              "    }\n",
              "\n",
              "    [theme=dark] .colab-df-convert:hover {\n",
              "      background-color: #434B5C;\n",
              "      box-shadow: 0px 1px 3px 1px rgba(0, 0, 0, 0.15);\n",
              "      filter: drop-shadow(0px 1px 2px rgba(0, 0, 0, 0.3));\n",
              "      fill: #FFFFFF;\n",
              "    }\n",
              "  </style>\n",
              "\n",
              "    <script>\n",
              "      const buttonEl =\n",
              "        document.querySelector('#df-8936d81a-c92b-41c7-abe9-4a4c60022d91 button.colab-df-convert');\n",
              "      buttonEl.style.display =\n",
              "        google.colab.kernel.accessAllowed ? 'block' : 'none';\n",
              "\n",
              "      async function convertToInteractive(key) {\n",
              "        const element = document.querySelector('#df-8936d81a-c92b-41c7-abe9-4a4c60022d91');\n",
              "        const dataTable =\n",
              "          await google.colab.kernel.invokeFunction('convertToInteractive',\n",
              "                                                    [key], {});\n",
              "        if (!dataTable) return;\n",
              "\n",
              "        const docLinkHtml = 'Like what you see? Visit the ' +\n",
              "          '<a target=\"_blank\" href=https://colab.research.google.com/notebooks/data_table.ipynb>data table notebook</a>'\n",
              "          + ' to learn more about interactive tables.';\n",
              "        element.innerHTML = '';\n",
              "        dataTable['output_type'] = 'display_data';\n",
              "        await google.colab.output.renderOutput(dataTable, element);\n",
              "        const docLink = document.createElement('div');\n",
              "        docLink.innerHTML = docLinkHtml;\n",
              "        element.appendChild(docLink);\n",
              "      }\n",
              "    </script>\n",
              "  </div>\n",
              "\n",
              "\n",
              "<div id=\"df-447b4f07-8037-4cd2-abaf-73882f8aaa08\">\n",
              "  <button class=\"colab-df-quickchart\" onclick=\"quickchart('df-447b4f07-8037-4cd2-abaf-73882f8aaa08')\"\n",
              "            title=\"Suggest charts.\"\n",
              "            style=\"display:none;\">\n",
              "\n",
              "<svg xmlns=\"http://www.w3.org/2000/svg\" height=\"24px\"viewBox=\"0 0 24 24\"\n",
              "     width=\"24px\">\n",
              "    <g>\n",
              "        <path d=\"M19 3H5c-1.1 0-2 .9-2 2v14c0 1.1.9 2 2 2h14c1.1 0 2-.9 2-2V5c0-1.1-.9-2-2-2zM9 17H7v-7h2v7zm4 0h-2V7h2v10zm4 0h-2v-4h2v4z\"/>\n",
              "    </g>\n",
              "</svg>\n",
              "  </button>\n",
              "\n",
              "<style>\n",
              "  .colab-df-quickchart {\n",
              "    background-color: #E8F0FE;\n",
              "    border: none;\n",
              "    border-radius: 50%;\n",
              "    cursor: pointer;\n",
              "    display: none;\n",
              "    fill: #1967D2;\n",
              "    height: 32px;\n",
              "    padding: 0 0 0 0;\n",
              "    width: 32px;\n",
              "  }\n",
              "\n",
              "  .colab-df-quickchart:hover {\n",
              "    background-color: #E2EBFA;\n",
              "    box-shadow: 0px 1px 2px rgba(60, 64, 67, 0.3), 0px 1px 3px 1px rgba(60, 64, 67, 0.15);\n",
              "    fill: #174EA6;\n",
              "  }\n",
              "\n",
              "  [theme=dark] .colab-df-quickchart {\n",
              "    background-color: #3B4455;\n",
              "    fill: #D2E3FC;\n",
              "  }\n",
              "\n",
              "  [theme=dark] .colab-df-quickchart:hover {\n",
              "    background-color: #434B5C;\n",
              "    box-shadow: 0px 1px 3px 1px rgba(0, 0, 0, 0.15);\n",
              "    filter: drop-shadow(0px 1px 2px rgba(0, 0, 0, 0.3));\n",
              "    fill: #FFFFFF;\n",
              "  }\n",
              "</style>\n",
              "\n",
              "  <script>\n",
              "    async function quickchart(key) {\n",
              "      const charts = await google.colab.kernel.invokeFunction(\n",
              "          'suggestCharts', [key], {});\n",
              "    }\n",
              "    (() => {\n",
              "      let quickchartButtonEl =\n",
              "        document.querySelector('#df-447b4f07-8037-4cd2-abaf-73882f8aaa08 button');\n",
              "      quickchartButtonEl.style.display =\n",
              "        google.colab.kernel.accessAllowed ? 'block' : 'none';\n",
              "    })();\n",
              "  </script>\n",
              "</div>\n",
              "    </div>\n",
              "  </div>\n"
            ]
          },
          "metadata": {},
          "execution_count": 37
        }
      ]
    },
    {
      "cell_type": "code",
      "source": [
        "df=pd.DataFrame(scaler.inverse_transform(df), columns=df.columns)\n",
        "\n",
        "df.head()"
      ],
      "metadata": {
        "execution": {
          "iopub.status.busy": "2023-08-23T05:29:37.780341Z",
          "iopub.execute_input": "2023-08-23T05:29:37.780727Z",
          "iopub.status.idle": "2023-08-23T05:29:37.797819Z",
          "shell.execute_reply.started": "2023-08-23T05:29:37.780697Z",
          "shell.execute_reply": "2023-08-23T05:29:37.796354Z"
        },
        "trusted": true,
        "colab": {
          "base_uri": "https://localhost:8080/",
          "height": 206
        },
        "id": "GGPBpJgIh4sS",
        "outputId": "3d8a7b3e-34a2-477a-99aa-59808b5fdc78"
      },
      "execution_count": null,
      "outputs": [
        {
          "output_type": "execute_result",
          "data": {
            "text/plain": [
              "   Pregnancies  Glucose  BloodPressure  SkinThickness  Insulin    BMI  DiabetesPedigreeFunction    Age  Outcome\n",
              "0        6.000  148.000         72.000         35.000  334.200 33.600                     0.627 50.000    1.000\n",
              "1        1.000   85.000         66.000         29.000   56.200 26.600                     0.351 31.000    0.000\n",
              "2        8.000  183.000         64.000         32.200  238.000 23.300                     0.672 32.000    1.000\n",
              "3        1.000   89.000         66.000         23.000   94.000 28.100                     0.167 21.000    0.000\n",
              "4        0.000  137.000         40.000         35.000  168.000 43.100                     2.288 33.000    1.000"
            ],
            "text/html": [
              "\n",
              "  <div id=\"df-9d76caa5-30a6-4cff-b4fd-dbbc42a8fbb5\" class=\"colab-df-container\">\n",
              "    <div>\n",
              "<style scoped>\n",
              "    .dataframe tbody tr th:only-of-type {\n",
              "        vertical-align: middle;\n",
              "    }\n",
              "\n",
              "    .dataframe tbody tr th {\n",
              "        vertical-align: top;\n",
              "    }\n",
              "\n",
              "    .dataframe thead th {\n",
              "        text-align: right;\n",
              "    }\n",
              "</style>\n",
              "<table border=\"1\" class=\"dataframe\">\n",
              "  <thead>\n",
              "    <tr style=\"text-align: right;\">\n",
              "      <th></th>\n",
              "      <th>Pregnancies</th>\n",
              "      <th>Glucose</th>\n",
              "      <th>BloodPressure</th>\n",
              "      <th>SkinThickness</th>\n",
              "      <th>Insulin</th>\n",
              "      <th>BMI</th>\n",
              "      <th>DiabetesPedigreeFunction</th>\n",
              "      <th>Age</th>\n",
              "      <th>Outcome</th>\n",
              "    </tr>\n",
              "  </thead>\n",
              "  <tbody>\n",
              "    <tr>\n",
              "      <th>0</th>\n",
              "      <td>6.000</td>\n",
              "      <td>148.000</td>\n",
              "      <td>72.000</td>\n",
              "      <td>35.000</td>\n",
              "      <td>334.200</td>\n",
              "      <td>33.600</td>\n",
              "      <td>0.627</td>\n",
              "      <td>50.000</td>\n",
              "      <td>1.000</td>\n",
              "    </tr>\n",
              "    <tr>\n",
              "      <th>1</th>\n",
              "      <td>1.000</td>\n",
              "      <td>85.000</td>\n",
              "      <td>66.000</td>\n",
              "      <td>29.000</td>\n",
              "      <td>56.200</td>\n",
              "      <td>26.600</td>\n",
              "      <td>0.351</td>\n",
              "      <td>31.000</td>\n",
              "      <td>0.000</td>\n",
              "    </tr>\n",
              "    <tr>\n",
              "      <th>2</th>\n",
              "      <td>8.000</td>\n",
              "      <td>183.000</td>\n",
              "      <td>64.000</td>\n",
              "      <td>32.200</td>\n",
              "      <td>238.000</td>\n",
              "      <td>23.300</td>\n",
              "      <td>0.672</td>\n",
              "      <td>32.000</td>\n",
              "      <td>1.000</td>\n",
              "    </tr>\n",
              "    <tr>\n",
              "      <th>3</th>\n",
              "      <td>1.000</td>\n",
              "      <td>89.000</td>\n",
              "      <td>66.000</td>\n",
              "      <td>23.000</td>\n",
              "      <td>94.000</td>\n",
              "      <td>28.100</td>\n",
              "      <td>0.167</td>\n",
              "      <td>21.000</td>\n",
              "      <td>0.000</td>\n",
              "    </tr>\n",
              "    <tr>\n",
              "      <th>4</th>\n",
              "      <td>0.000</td>\n",
              "      <td>137.000</td>\n",
              "      <td>40.000</td>\n",
              "      <td>35.000</td>\n",
              "      <td>168.000</td>\n",
              "      <td>43.100</td>\n",
              "      <td>2.288</td>\n",
              "      <td>33.000</td>\n",
              "      <td>1.000</td>\n",
              "    </tr>\n",
              "  </tbody>\n",
              "</table>\n",
              "</div>\n",
              "    <div class=\"colab-df-buttons\">\n",
              "\n",
              "  <div class=\"colab-df-container\">\n",
              "    <button class=\"colab-df-convert\" onclick=\"convertToInteractive('df-9d76caa5-30a6-4cff-b4fd-dbbc42a8fbb5')\"\n",
              "            title=\"Convert this dataframe to an interactive table.\"\n",
              "            style=\"display:none;\">\n",
              "\n",
              "  <svg xmlns=\"http://www.w3.org/2000/svg\" height=\"24px\" viewBox=\"0 -960 960 960\">\n",
              "    <path d=\"M120-120v-720h720v720H120Zm60-500h600v-160H180v160Zm220 220h160v-160H400v160Zm0 220h160v-160H400v160ZM180-400h160v-160H180v160Zm440 0h160v-160H620v160ZM180-180h160v-160H180v160Zm440 0h160v-160H620v160Z\"/>\n",
              "  </svg>\n",
              "    </button>\n",
              "\n",
              "  <style>\n",
              "    .colab-df-container {\n",
              "      display:flex;\n",
              "      gap: 12px;\n",
              "    }\n",
              "\n",
              "    .colab-df-convert {\n",
              "      background-color: #E8F0FE;\n",
              "      border: none;\n",
              "      border-radius: 50%;\n",
              "      cursor: pointer;\n",
              "      display: none;\n",
              "      fill: #1967D2;\n",
              "      height: 32px;\n",
              "      padding: 0 0 0 0;\n",
              "      width: 32px;\n",
              "    }\n",
              "\n",
              "    .colab-df-convert:hover {\n",
              "      background-color: #E2EBFA;\n",
              "      box-shadow: 0px 1px 2px rgba(60, 64, 67, 0.3), 0px 1px 3px 1px rgba(60, 64, 67, 0.15);\n",
              "      fill: #174EA6;\n",
              "    }\n",
              "\n",
              "    .colab-df-buttons div {\n",
              "      margin-bottom: 4px;\n",
              "    }\n",
              "\n",
              "    [theme=dark] .colab-df-convert {\n",
              "      background-color: #3B4455;\n",
              "      fill: #D2E3FC;\n",
              "    }\n",
              "\n",
              "    [theme=dark] .colab-df-convert:hover {\n",
              "      background-color: #434B5C;\n",
              "      box-shadow: 0px 1px 3px 1px rgba(0, 0, 0, 0.15);\n",
              "      filter: drop-shadow(0px 1px 2px rgba(0, 0, 0, 0.3));\n",
              "      fill: #FFFFFF;\n",
              "    }\n",
              "  </style>\n",
              "\n",
              "    <script>\n",
              "      const buttonEl =\n",
              "        document.querySelector('#df-9d76caa5-30a6-4cff-b4fd-dbbc42a8fbb5 button.colab-df-convert');\n",
              "      buttonEl.style.display =\n",
              "        google.colab.kernel.accessAllowed ? 'block' : 'none';\n",
              "\n",
              "      async function convertToInteractive(key) {\n",
              "        const element = document.querySelector('#df-9d76caa5-30a6-4cff-b4fd-dbbc42a8fbb5');\n",
              "        const dataTable =\n",
              "          await google.colab.kernel.invokeFunction('convertToInteractive',\n",
              "                                                    [key], {});\n",
              "        if (!dataTable) return;\n",
              "\n",
              "        const docLinkHtml = 'Like what you see? Visit the ' +\n",
              "          '<a target=\"_blank\" href=https://colab.research.google.com/notebooks/data_table.ipynb>data table notebook</a>'\n",
              "          + ' to learn more about interactive tables.';\n",
              "        element.innerHTML = '';\n",
              "        dataTable['output_type'] = 'display_data';\n",
              "        await google.colab.output.renderOutput(dataTable, element);\n",
              "        const docLink = document.createElement('div');\n",
              "        docLink.innerHTML = docLinkHtml;\n",
              "        element.appendChild(docLink);\n",
              "      }\n",
              "    </script>\n",
              "  </div>\n",
              "\n",
              "\n",
              "<div id=\"df-2f93c18f-8dc1-4cd4-bb11-1e564f093ec4\">\n",
              "  <button class=\"colab-df-quickchart\" onclick=\"quickchart('df-2f93c18f-8dc1-4cd4-bb11-1e564f093ec4')\"\n",
              "            title=\"Suggest charts.\"\n",
              "            style=\"display:none;\">\n",
              "\n",
              "<svg xmlns=\"http://www.w3.org/2000/svg\" height=\"24px\"viewBox=\"0 0 24 24\"\n",
              "     width=\"24px\">\n",
              "    <g>\n",
              "        <path d=\"M19 3H5c-1.1 0-2 .9-2 2v14c0 1.1.9 2 2 2h14c1.1 0 2-.9 2-2V5c0-1.1-.9-2-2-2zM9 17H7v-7h2v7zm4 0h-2V7h2v10zm4 0h-2v-4h2v4z\"/>\n",
              "    </g>\n",
              "</svg>\n",
              "  </button>\n",
              "\n",
              "<style>\n",
              "  .colab-df-quickchart {\n",
              "    background-color: #E8F0FE;\n",
              "    border: none;\n",
              "    border-radius: 50%;\n",
              "    cursor: pointer;\n",
              "    display: none;\n",
              "    fill: #1967D2;\n",
              "    height: 32px;\n",
              "    padding: 0 0 0 0;\n",
              "    width: 32px;\n",
              "  }\n",
              "\n",
              "  .colab-df-quickchart:hover {\n",
              "    background-color: #E2EBFA;\n",
              "    box-shadow: 0px 1px 2px rgba(60, 64, 67, 0.3), 0px 1px 3px 1px rgba(60, 64, 67, 0.15);\n",
              "    fill: #174EA6;\n",
              "  }\n",
              "\n",
              "  [theme=dark] .colab-df-quickchart {\n",
              "    background-color: #3B4455;\n",
              "    fill: #D2E3FC;\n",
              "  }\n",
              "\n",
              "  [theme=dark] .colab-df-quickchart:hover {\n",
              "    background-color: #434B5C;\n",
              "    box-shadow: 0px 1px 3px 1px rgba(0, 0, 0, 0.15);\n",
              "    filter: drop-shadow(0px 1px 2px rgba(0, 0, 0, 0.3));\n",
              "    fill: #FFFFFF;\n",
              "  }\n",
              "</style>\n",
              "\n",
              "  <script>\n",
              "    async function quickchart(key) {\n",
              "      const charts = await google.colab.kernel.invokeFunction(\n",
              "          'suggestCharts', [key], {});\n",
              "    }\n",
              "    (() => {\n",
              "      let quickchartButtonEl =\n",
              "        document.querySelector('#df-2f93c18f-8dc1-4cd4-bb11-1e564f093ec4 button');\n",
              "      quickchartButtonEl.style.display =\n",
              "        google.colab.kernel.accessAllowed ? 'block' : 'none';\n",
              "    })();\n",
              "  </script>\n",
              "</div>\n",
              "    </div>\n",
              "  </div>\n"
            ]
          },
          "metadata": {},
          "execution_count": 38
        }
      ]
    },
    {
      "cell_type": "code",
      "source": [
        "missing_values(df)"
      ],
      "metadata": {
        "execution": {
          "iopub.status.busy": "2023-08-23T05:29:40.270556Z",
          "iopub.execute_input": "2023-08-23T05:29:40.270968Z",
          "iopub.status.idle": "2023-08-23T05:29:40.285543Z",
          "shell.execute_reply.started": "2023-08-23T05:29:40.270923Z",
          "shell.execute_reply": "2023-08-23T05:29:40.284235Z"
        },
        "trusted": true,
        "colab": {
          "base_uri": "https://localhost:8080/"
        },
        "id": "Ntvk1NSHh4sS",
        "outputId": "d6bdc9f7-b123-44c5-9a26-9e86b7bf4658"
      },
      "execution_count": null,
      "outputs": [
        {
          "output_type": "stream",
          "name": "stdout",
          "text": [
            "                          miss_number  ratio\n",
            "Pregnancies                         0  0.000\n",
            "Glucose                             0  0.000\n",
            "BloodPressure                       0  0.000\n",
            "SkinThickness                       0  0.000\n",
            "Insulin                             0  0.000\n",
            "BMI                                 0  0.000\n",
            "DiabetesPedigreeFunction            0  0.000\n",
            "Age                                 0  0.000\n",
            "Outcome                             0  0.000\n"
          ]
        }
      ]
    },
    {
      "cell_type": "markdown",
      "source": [
        "<a id=\"13\"></a> <br>\n",
        "# Correlation Analysis"
      ],
      "metadata": {
        "id": "vlmZ9nIBh4sS"
      }
    },
    {
      "cell_type": "code",
      "source": [
        "def corr(dataframe, annot=True):\n",
        "    sns.heatmap(dataframe.corr(), annot=annot, linewidths=.2, cmap='Reds', square=True)\n",
        "    plt.show(block=True)"
      ],
      "metadata": {
        "execution": {
          "iopub.status.busy": "2023-08-23T05:29:47.704017Z",
          "iopub.execute_input": "2023-08-23T05:29:47.704407Z",
          "iopub.status.idle": "2023-08-23T05:29:47.710434Z",
          "shell.execute_reply.started": "2023-08-23T05:29:47.704377Z",
          "shell.execute_reply": "2023-08-23T05:29:47.709207Z"
        },
        "trusted": true,
        "id": "KQBzd-Ssh4sS"
      },
      "execution_count": null,
      "outputs": []
    },
    {
      "cell_type": "code",
      "source": [
        "corr(df)"
      ],
      "metadata": {
        "execution": {
          "iopub.status.busy": "2023-08-23T05:29:51.129512Z",
          "iopub.execute_input": "2023-08-23T05:29:51.129898Z",
          "iopub.status.idle": "2023-08-23T05:29:51.712683Z",
          "shell.execute_reply.started": "2023-08-23T05:29:51.129866Z",
          "shell.execute_reply": "2023-08-23T05:29:51.711695Z"
        },
        "trusted": true,
        "colab": {
          "base_uri": "https://localhost:8080/",
          "height": 603
        },
        "id": "kzwWG0r4h4sS",
        "outputId": "9ccf4631-a98b-4ba0-adc8-6eb0bc81ac4d"
      },
      "execution_count": null,
      "outputs": [
        {
          "output_type": "display_data",
          "data": {
            "text/plain": [
              "<Figure size 640x480 with 2 Axes>"
            ],
            "image/png": "[encoded data removed]"
          },
          "metadata": {}
        }
      ]
    },
    {
      "cell_type": "markdown",
      "source": [
        "We can observe a high correlation between BMI and SkinThickness, as well as between Glucose and Insulin. Correlation between Age and Pregnancies can be also considered as meaningful."
      ],
      "metadata": {
        "id": "twRtamlsh4sS"
      }
    },
    {
      "cell_type": "markdown",
      "source": [
        "<a id=\"14\"></a> <br>\n",
        "# 7.Feature Engineering"
      ],
      "metadata": {
        "id": "VGpQTBS7h4sS"
      }
    },
    {
      "cell_type": "markdown",
      "source": [
        " To extract meaningful information from existing features to create new one so that we can increase our model's performance"
      ],
      "metadata": {
        "id": "3r6tfKb8h4sT"
      }
    },
    {
      "cell_type": "code",
      "source": [
        "df.loc[(df[\"Age\"] < 18 ), \"NEW_AGE\"] = \"young\"\n",
        "df.loc[(df[\"Age\"] > 18 ) & (df[\"Age\"] <= 24), \"NEW_AGE\"] = \"adult\"\n",
        "df.loc[(df[\"Age\"] > 24 ) & (df[\"Age\"] <= 59), \"NEW_AGE\"] = \"mid_adult\"\n",
        "df.loc[(df[\"Age\"] >= 60), \"NEW_AGE\"] = \"senior\"\n"
      ],
      "metadata": {
        "execution": {
          "iopub.status.busy": "2023-08-23T05:30:16.599830Z",
          "iopub.execute_input": "2023-08-23T05:30:16.600912Z",
          "iopub.status.idle": "2023-08-23T05:30:16.612559Z",
          "shell.execute_reply.started": "2023-08-23T05:30:16.600865Z",
          "shell.execute_reply": "2023-08-23T05:30:16.611351Z"
        },
        "trusted": true,
        "id": "OENbhYNkh4sT"
      },
      "execution_count": null,
      "outputs": []
    },
    {
      "cell_type": "code",
      "source": [
        "df.loc[(df[\"BMI\"] < 18.5) , \"BMI_CAT\"] =\"underweight\"\n",
        "df.loc[(df[\"BMI\"] >= 18.5) & (df[\"BMI\"] < 24.9) , \"BMI_CAT\"] =\"normal\"\n",
        "df.loc[(df[\"BMI\"] >= 24.9) & (df[\"BMI\"] < 29.9) , \"BMI_CAT\"]=\"overweight\"\n",
        "df.loc[(df[\"BMI\"] > 30) , \"BMI_CAT\"] =\"obese\""
      ],
      "metadata": {
        "execution": {
          "iopub.status.busy": "2023-08-23T05:30:19.683333Z",
          "iopub.execute_input": "2023-08-23T05:30:19.683730Z",
          "iopub.status.idle": "2023-08-23T05:30:19.694565Z",
          "shell.execute_reply.started": "2023-08-23T05:30:19.683699Z",
          "shell.execute_reply": "2023-08-23T05:30:19.693123Z"
        },
        "trusted": true,
        "id": "VYvsMmbhh4sT"
      },
      "execution_count": null,
      "outputs": []
    },
    {
      "cell_type": "code",
      "source": [
        "df.loc[(df[\"Insulin\"] < 15) , \"INSULIN_CAT\"] =\"low\"\n",
        "df.loc[(df[\"Insulin\"] >= 15) & (df[\"Insulin\"] < 166) , \"INSULIN_CAT\"] =\"normal\"\n",
        "df.loc[(df[\"Insulin\"] >= 166) , \"INSULIN_CAT\"] =\"high\""
      ],
      "metadata": {
        "execution": {
          "iopub.status.busy": "2023-08-23T05:30:24.729595Z",
          "iopub.execute_input": "2023-08-23T05:30:24.730145Z",
          "iopub.status.idle": "2023-08-23T05:30:24.738896Z",
          "shell.execute_reply.started": "2023-08-23T05:30:24.730105Z",
          "shell.execute_reply": "2023-08-23T05:30:24.737762Z"
        },
        "trusted": true,
        "id": "kuO7lq0Eh4sT"
      },
      "execution_count": null,
      "outputs": []
    },
    {
      "cell_type": "code",
      "source": [
        "df.head()"
      ],
      "metadata": {
        "execution": {
          "iopub.status.busy": "2023-08-23T05:30:27.504895Z",
          "iopub.execute_input": "2023-08-23T05:30:27.505332Z",
          "iopub.status.idle": "2023-08-23T05:30:27.521845Z",
          "shell.execute_reply.started": "2023-08-23T05:30:27.505297Z",
          "shell.execute_reply": "2023-08-23T05:30:27.520629Z"
        },
        "trusted": true,
        "colab": {
          "base_uri": "https://localhost:8080/",
          "height": 206
        },
        "id": "PzKJ8yGAh4sT",
        "outputId": "812d9ad1-de2e-4ba9-848c-a4be74dc2852"
      },
      "execution_count": null,
      "outputs": [
        {
          "output_type": "execute_result",
          "data": {
            "text/plain": [
              "   Pregnancies  Glucose  BloodPressure  SkinThickness  Insulin    BMI  DiabetesPedigreeFunction    Age  Outcome    NEW_AGE     BMI_CAT\n",
              "0        6.000  148.000         72.000         35.000  334.200 33.600                     0.627 50.000    1.000  mid_adult       obese\n",
              "1        1.000   85.000         66.000         29.000   56.200 26.600                     0.351 31.000    0.000  mid_adult  overweight\n",
              "2        8.000  183.000         64.000         32.200  238.000 23.300                     0.672 32.000    1.000  mid_adult      normal\n",
              "3        1.000   89.000         66.000         23.000   94.000 28.100                     0.167 21.000    0.000      adult  overweight\n",
              "4        0.000  137.000         40.000         35.000  168.000 43.100                     2.288 33.000    1.000  mid_adult       obese"
            ],
            "text/html": [
              "\n",
              "  <div id=\"df-f8d51fbc-d1ef-4c09-af85-739063c27561\" class=\"colab-df-container\">\n",
              "    <div>\n",
              "<style scoped>\n",
              "    .dataframe tbody tr th:only-of-type {\n",
              "        vertical-align: middle;\n",
              "    }\n",
              "\n",
              "    .dataframe tbody tr th {\n",
              "        vertical-align: top;\n",
              "    }\n",
              "\n",
              "    .dataframe thead th {\n",
              "        text-align: right;\n",
              "    }\n",
              "</style>\n",
              "<table border=\"1\" class=\"dataframe\">\n",
              "  <thead>\n",
              "    <tr style=\"text-align: right;\">\n",
              "      <th></th>\n",
              "      <th>Pregnancies</th>\n",
              "      <th>Glucose</th>\n",
              "      <th>BloodPressure</th>\n",
              "      <th>SkinThickness</th>\n",
              "      <th>Insulin</th>\n",
              "      <th>BMI</th>\n",
              "      <th>DiabetesPedigreeFunction</th>\n",
              "      <th>Age</th>\n",
              "      <th>Outcome</th>\n",
              "      <th>NEW_AGE</th>\n",
              "      <th>BMI_CAT</th>\n",
              "    </tr>\n",
              "  </thead>\n",
              "  <tbody>\n",
              "    <tr>\n",
              "      <th>0</th>\n",
              "      <td>6.000</td>\n",
              "      <td>148.000</td>\n",
              "      <td>72.000</td>\n",
              "      <td>35.000</td>\n",
              "      <td>334.200</td>\n",
              "      <td>33.600</td>\n",
              "      <td>0.627</td>\n",
              "      <td>50.000</td>\n",
              "      <td>1.000</td>\n",
              "      <td>mid_adult</td>\n",
              "      <td>obese</td>\n",
              "    </tr>\n",
              "    <tr>\n",
              "      <th>1</th>\n",
              "      <td>1.000</td>\n",
              "      <td>85.000</td>\n",
              "      <td>66.000</td>\n",
              "      <td>29.000</td>\n",
              "      <td>56.200</td>\n",
              "      <td>26.600</td>\n",
              "      <td>0.351</td>\n",
              "      <td>31.000</td>\n",
              "      <td>0.000</td>\n",
              "      <td>mid_adult</td>\n",
              "      <td>overweight</td>\n",
              "    </tr>\n",
              "    <tr>\n",
              "      <th>2</th>\n",
              "      <td>8.000</td>\n",
              "      <td>183.000</td>\n",
              "      <td>64.000</td>\n",
              "      <td>32.200</td>\n",
              "      <td>238.000</td>\n",
              "      <td>23.300</td>\n",
              "      <td>0.672</td>\n",
              "      <td>32.000</td>\n",
              "      <td>1.000</td>\n",
              "      <td>mid_adult</td>\n",
              "      <td>normal</td>\n",
              "    </tr>\n",
              "    <tr>\n",
              "      <th>3</th>\n",
              "      <td>1.000</td>\n",
              "      <td>89.000</td>\n",
              "      <td>66.000</td>\n",
              "      <td>23.000</td>\n",
              "      <td>94.000</td>\n",
              "      <td>28.100</td>\n",
              "      <td>0.167</td>\n",
              "      <td>21.000</td>\n",
              "      <td>0.000</td>\n",
              "      <td>adult</td>\n",
              "      <td>overweight</td>\n",
              "    </tr>\n",
              "    <tr>\n",
              "      <th>4</th>\n",
              "      <td>0.000</td>\n",
              "      <td>137.000</td>\n",
              "      <td>40.000</td>\n",
              "      <td>35.000</td>\n",
              "      <td>168.000</td>\n",
              "      <td>43.100</td>\n",
              "      <td>2.288</td>\n",
              "      <td>33.000</td>\n",
              "      <td>1.000</td>\n",
              "      <td>mid_adult</td>\n",
              "      <td>obese</td>\n",
              "    </tr>\n",
              "  </tbody>\n",
              "</table>\n",
              "</div>\n",
              "    <div class=\"colab-df-buttons\">\n",
              "\n",
              "  <div class=\"colab-df-container\">\n",
              "    <button class=\"colab-df-convert\" onclick=\"convertToInteractive('df-f8d51fbc-d1ef-4c09-af85-739063c27561')\"\n",
              "            title=\"Convert this dataframe to an interactive table.\"\n",
              "            style=\"display:none;\">\n",
              "\n",
              "  <svg xmlns=\"http://www.w3.org/2000/svg\" height=\"24px\" viewBox=\"0 -960 960 960\">\n",
              "    <path d=\"M120-120v-720h720v720H120Zm60-500h600v-160H180v160Zm220 220h160v-160H400v160Zm0 220h160v-160H400v160ZM180-400h160v-160H180v160Zm440 0h160v-160H620v160ZM180-180h160v-160H180v160Zm440 0h160v-160H620v160Z\"/>\n",
              "  </svg>\n",
              "    </button>\n",
              "\n",
              "  <style>\n",
              "    .colab-df-container {\n",
              "      display:flex;\n",
              "      gap: 12px;\n",
              "    }\n",
              "\n",
              "    .colab-df-convert {\n",
              "      background-color: #E8F0FE;\n",
              "      border: none;\n",
              "      border-radius: 50%;\n",
              "      cursor: pointer;\n",
              "      display: none;\n",
              "      fill: #1967D2;\n",
              "      height: 32px;\n",
              "      padding: 0 0 0 0;\n",
              "      width: 32px;\n",
              "    }\n",
              "\n",
              "    .colab-df-convert:hover {\n",
              "      background-color: #E2EBFA;\n",
              "      box-shadow: 0px 1px 2px rgba(60, 64, 67, 0.3), 0px 1px 3px 1px rgba(60, 64, 67, 0.15);\n",
              "      fill: #174EA6;\n",
              "    }\n",
              "\n",
              "    .colab-df-buttons div {\n",
              "      margin-bottom: 4px;\n",
              "    }\n",
              "\n",
              "    [theme=dark] .colab-df-convert {\n",
              "      background-color: #3B4455;\n",
              "      fill: #D2E3FC;\n",
              "    }\n",
              "\n",
              "    [theme=dark] .colab-df-convert:hover {\n",
              "      background-color: #434B5C;\n",
              "      box-shadow: 0px 1px 3px 1px rgba(0, 0, 0, 0.15);\n",
              "      filter: drop-shadow(0px 1px 2px rgba(0, 0, 0, 0.3));\n",
              "      fill: #FFFFFF;\n",
              "    }\n",
              "  </style>\n",
              "\n",
              "    <script>\n",
              "      const buttonEl =\n",
              "        document.querySelector('#df-f8d51fbc-d1ef-4c09-af85-739063c27561 button.colab-df-convert');\n",
              "      buttonEl.style.display =\n",
              "        google.colab.kernel.accessAllowed ? 'block' : 'none';\n",
              "\n",
              "      async function convertToInteractive(key) {\n",
              "        const element = document.querySelector('#df-f8d51fbc-d1ef-4c09-af85-739063c27561');\n",
              "        const dataTable =\n",
              "          await google.colab.kernel.invokeFunction('convertToInteractive',\n",
              "                                                    [key], {});\n",
              "        if (!dataTable) return;\n",
              "\n",
              "        const docLinkHtml = 'Like what you see? Visit the ' +\n",
              "          '<a target=\"_blank\" href=https://colab.research.google.com/notebooks/data_table.ipynb>data table notebook</a>'\n",
              "          + ' to learn more about interactive tables.';\n",
              "        element.innerHTML = '';\n",
              "        dataTable['output_type'] = 'display_data';\n",
              "        await google.colab.output.renderOutput(dataTable, element);\n",
              "        const docLink = document.createElement('div');\n",
              "        docLink.innerHTML = docLinkHtml;\n",
              "        element.appendChild(docLink);\n",
              "      }\n",
              "    </script>\n",
              "  </div>\n",
              "\n",
              "\n",
              "<div id=\"df-9ae6192c-273a-4c1d-9ac1-1f8f4570dd6e\">\n",
              "  <button class=\"colab-df-quickchart\" onclick=\"quickchart('df-9ae6192c-273a-4c1d-9ac1-1f8f4570dd6e')\"\n",
              "            title=\"Suggest charts.\"\n",
              "            style=\"display:none;\">\n",
              "\n",
              "<svg xmlns=\"http://www.w3.org/2000/svg\" height=\"24px\"viewBox=\"0 0 24 24\"\n",
              "     width=\"24px\">\n",
              "    <g>\n",
              "        <path d=\"M19 3H5c-1.1 0-2 .9-2 2v14c0 1.1.9 2 2 2h14c1.1 0 2-.9 2-2V5c0-1.1-.9-2-2-2zM9 17H7v-7h2v7zm4 0h-2V7h2v10zm4 0h-2v-4h2v4z\"/>\n",
              "    </g>\n",
              "</svg>\n",
              "  </button>\n",
              "\n",
              "<style>\n",
              "  .colab-df-quickchart {\n",
              "    background-color: #E8F0FE;\n",
              "    border: none;\n",
              "    border-radius: 50%;\n",
              "    cursor: pointer;\n",
              "    display: none;\n",
              "    fill: #1967D2;\n",
              "    height: 32px;\n",
              "    padding: 0 0 0 0;\n",
              "    width: 32px;\n",
              "  }\n",
              "\n",
              "  .colab-df-quickchart:hover {\n",
              "    background-color: #E2EBFA;\n",
              "    box-shadow: 0px 1px 2px rgba(60, 64, 67, 0.3), 0px 1px 3px 1px rgba(60, 64, 67, 0.15);\n",
              "    fill: #174EA6;\n",
              "  }\n",
              "\n",
              "  [theme=dark] .colab-df-quickchart {\n",
              "    background-color: #3B4455;\n",
              "    fill: #D2E3FC;\n",
              "  }\n",
              "\n",
              "  [theme=dark] .colab-df-quickchart:hover {\n",
              "    background-color: #434B5C;\n",
              "    box-shadow: 0px 1px 3px 1px rgba(0, 0, 0, 0.15);\n",
              "    filter: drop-shadow(0px 1px 2px rgba(0, 0, 0, 0.3));\n",
              "    fill: #FFFFFF;\n",
              "  }\n",
              "</style>\n",
              "\n",
              "  <script>\n",
              "    async function quickchart(key) {\n",
              "      const charts = await google.colab.kernel.invokeFunction(\n",
              "          'suggestCharts', [key], {});\n",
              "    }\n",
              "    (() => {\n",
              "      let quickchartButtonEl =\n",
              "        document.querySelector('#df-9ae6192c-273a-4c1d-9ac1-1f8f4570dd6e button');\n",
              "      quickchartButtonEl.style.display =\n",
              "        google.colab.kernel.accessAllowed ? 'block' : 'none';\n",
              "    })();\n",
              "  </script>\n",
              "</div>\n",
              "    </div>\n",
              "  </div>\n"
            ]
          },
          "metadata": {},
          "execution_count": 44
        }
      ]
    },
    {
      "cell_type": "markdown",
      "source": [
        "<a id=\"15\"></a> <br>\n",
        "# 8.Data Preprocessing for Modeling"
      ],
      "metadata": {
        "id": "yt5odUMah4sT"
      }
    },
    {
      "cell_type": "markdown",
      "source": [
        "<a id=\"16\"></a> <br>\n",
        "# Encoding"
      ],
      "metadata": {
        "id": "aUM3xAy7h4sT"
      }
    },
    {
      "cell_type": "code",
      "source": [
        "#Label Encoding\n",
        "\n",
        "def label_encoder(dataframe, binary_col):\n",
        "    labelencoder = LabelEncoder()\n",
        "    dataframe[binary_col] = labelencoder.fit_transform(dataframe[binary_col])\n",
        "    return dataframe\n",
        "\n",
        "binary_cols=[col for col in df.columns if (df[col].nunique() == 2) & (df[col].dtype not in [\"int64\" ,\"float64\"])]"
      ],
      "metadata": {
        "execution": {
          "iopub.status.busy": "2023-08-23T05:30:31.317478Z",
          "iopub.execute_input": "2023-08-23T05:30:31.317847Z",
          "iopub.status.idle": "2023-08-23T05:30:31.328901Z",
          "shell.execute_reply.started": "2023-08-23T05:30:31.317817Z",
          "shell.execute_reply": "2023-08-23T05:30:31.327631Z"
        },
        "trusted": true,
        "id": "TKZfTE44h4sU"
      },
      "execution_count": null,
      "outputs": []
    },
    {
      "cell_type": "code",
      "source": [
        "binary_cols #we wont't use label encoding since there isn't any binary col"
      ],
      "metadata": {
        "execution": {
          "iopub.status.busy": "2023-08-23T05:30:34.247877Z",
          "iopub.execute_input": "2023-08-23T05:30:34.248303Z",
          "iopub.status.idle": "2023-08-23T05:30:34.256026Z",
          "shell.execute_reply.started": "2023-08-23T05:30:34.248270Z",
          "shell.execute_reply": "2023-08-23T05:30:34.254762Z"
        },
        "trusted": true,
        "id": "qfU6Jrsbh4sU",
        "outputId": "b8562c36-e34a-46e1-8cbc-5ff54470c415"
      },
      "execution_count": null,
      "outputs": [
        {
          "execution_count": 51,
          "output_type": "execute_result",
          "data": {
            "text/plain": "[]"
          },
          "metadata": {}
        }
      ]
    },
    {
      "cell_type": "code",
      "source": [
        "#One-Hot Encoding\n",
        "ohe_cols = [col for col in df.columns if 10 >= df[col].nunique() > 2]\n"
      ],
      "metadata": {
        "execution": {
          "iopub.status.busy": "2023-08-23T05:30:37.153041Z",
          "iopub.execute_input": "2023-08-23T05:30:37.153444Z",
          "iopub.status.idle": "2023-08-23T05:30:37.161815Z",
          "shell.execute_reply.started": "2023-08-23T05:30:37.153411Z",
          "shell.execute_reply": "2023-08-23T05:30:37.160426Z"
        },
        "trusted": true,
        "id": "hV5qOC1Ih4sU"
      },
      "execution_count": null,
      "outputs": []
    },
    {
      "cell_type": "code",
      "source": [
        "ohe_cols"
      ],
      "metadata": {
        "execution": {
          "iopub.status.busy": "2023-08-23T05:30:40.577557Z",
          "iopub.execute_input": "2023-08-23T05:30:40.578193Z",
          "iopub.status.idle": "2023-08-23T05:30:40.583935Z",
          "shell.execute_reply.started": "2023-08-23T05:30:40.578158Z",
          "shell.execute_reply": "2023-08-23T05:30:40.582824Z"
        },
        "trusted": true,
        "colab": {
          "base_uri": "https://localhost:8080/"
        },
        "id": "H_P5aNKbh4sU",
        "outputId": "eaa0d6f2-bddb-4b4c-ebe5-704a1a40686b"
      },
      "execution_count": null,
      "outputs": [
        {
          "output_type": "execute_result",
          "data": {
            "text/plain": [
              "['NEW_AGE', 'BMI_CAT']"
            ]
          },
          "metadata": {},
          "execution_count": 47
        }
      ]
    },
    {
      "cell_type": "code",
      "source": [
        "df= pd.get_dummies(df,columns= ohe_cols, drop_first=True)"
      ],
      "metadata": {
        "execution": {
          "iopub.status.busy": "2023-08-23T05:30:42.893928Z",
          "iopub.execute_input": "2023-08-23T05:30:42.894765Z",
          "iopub.status.idle": "2023-08-23T05:30:42.906789Z",
          "shell.execute_reply.started": "2023-08-23T05:30:42.894724Z",
          "shell.execute_reply": "2023-08-23T05:30:42.905223Z"
        },
        "trusted": true,
        "colab": {
          "base_uri": "https://localhost:8080/",
          "height": 321
        },
        "id": "dYM4m2_Mh4sU",
        "outputId": "39089b2a-7d0e-4331-c083-54783eecb800"
      },
      "execution_count": null,
      "outputs": [
        {
          "output_type": "error",
          "ename": "KeyError",
          "evalue": "ignored",
          "traceback": [
            "\u001b[0;31m---------------------------------------------------------------------------\u001b[0m",
            "\u001b[0;31mKeyError\u001b[0m                                  Traceback (most recent call last)",
            "\u001b[0;32m<ipython-input-50-8debba9baced>\u001b[0m in \u001b[0;36m<cell line: 1>\u001b[0;34m()\u001b[0m\n\u001b[0;32m----> 1\u001b[0;31m \u001b[0mdf\u001b[0m\u001b[0;34m=\u001b[0m \u001b[0mpd\u001b[0m\u001b[0;34m.\u001b[0m\u001b[0mget_dummies\u001b[0m\u001b[0;34m(\u001b[0m\u001b[0mdf\u001b[0m\u001b[0;34m,\u001b[0m\u001b[0mcolumns\u001b[0m\u001b[0;34m=\u001b[0m \u001b[0mohe_cols\u001b[0m\u001b[0;34m,\u001b[0m \u001b[0mdrop_first\u001b[0m\u001b[0;34m=\u001b[0m\u001b[0;32mTrue\u001b[0m\u001b[0;34m)\u001b[0m\u001b[0;34m\u001b[0m\u001b[0;34m\u001b[0m\u001b[0m\n\u001b[0m",
            "\u001b[0;32m/usr/local/lib/python3.10/dist-packages/pandas/core/reshape/encoding.py\u001b[0m in \u001b[0;36mget_dummies\u001b[0;34m(data, prefix, prefix_sep, dummy_na, columns, sparse, drop_first, dtype)\u001b[0m\n\u001b[1;32m    144\u001b[0m             \u001b[0;32mraise\u001b[0m \u001b[0mTypeError\u001b[0m\u001b[0;34m(\u001b[0m\u001b[0;34m\"Input must be a list-like for parameter `columns`\"\u001b[0m\u001b[0;34m)\u001b[0m\u001b[0;34m\u001b[0m\u001b[0;34m\u001b[0m\u001b[0m\n\u001b[1;32m    145\u001b[0m         \u001b[0;32melse\u001b[0m\u001b[0;34m:\u001b[0m\u001b[0;34m\u001b[0m\u001b[0;34m\u001b[0m\u001b[0m\n\u001b[0;32m--> 146\u001b[0;31m             \u001b[0mdata_to_encode\u001b[0m \u001b[0;34m=\u001b[0m \u001b[0mdata\u001b[0m\u001b[0;34m[\u001b[0m\u001b[0mcolumns\u001b[0m\u001b[0;34m]\u001b[0m\u001b[0;34m\u001b[0m\u001b[0;34m\u001b[0m\u001b[0m\n\u001b[0m\u001b[1;32m    147\u001b[0m \u001b[0;34m\u001b[0m\u001b[0m\n\u001b[1;32m    148\u001b[0m         \u001b[0;31m# validate prefixes and separator to avoid silently dropping cols\u001b[0m\u001b[0;34m\u001b[0m\u001b[0;34m\u001b[0m\u001b[0m\n",
            "\u001b[0;32m/usr/local/lib/python3.10/dist-packages/pandas/core/frame.py\u001b[0m in \u001b[0;36m__getitem__\u001b[0;34m(self, key)\u001b[0m\n\u001b[1;32m   3811\u001b[0m             \u001b[0;32mif\u001b[0m \u001b[0mis_iterator\u001b[0m\u001b[0;34m(\u001b[0m\u001b[0mkey\u001b[0m\u001b[0;34m)\u001b[0m\u001b[0;34m:\u001b[0m\u001b[0;34m\u001b[0m\u001b[0;34m\u001b[0m\u001b[0m\n\u001b[1;32m   3812\u001b[0m                 \u001b[0mkey\u001b[0m \u001b[0;34m=\u001b[0m \u001b[0mlist\u001b[0m\u001b[0;34m(\u001b[0m\u001b[0mkey\u001b[0m\u001b[0;34m)\u001b[0m\u001b[0;34m\u001b[0m\u001b[0;34m\u001b[0m\u001b[0m\n\u001b[0;32m-> 3813\u001b[0;31m             \u001b[0mindexer\u001b[0m \u001b[0;34m=\u001b[0m \u001b[0mself\u001b[0m\u001b[0;34m.\u001b[0m\u001b[0mcolumns\u001b[0m\u001b[0;34m.\u001b[0m\u001b[0m_get_indexer_strict\u001b[0m\u001b[0;34m(\u001b[0m\u001b[0mkey\u001b[0m\u001b[0;34m,\u001b[0m \u001b[0;34m\"columns\"\u001b[0m\u001b[0;34m)\u001b[0m\u001b[0;34m[\u001b[0m\u001b[0;36m1\u001b[0m\u001b[0;34m]\u001b[0m\u001b[0;34m\u001b[0m\u001b[0;34m\u001b[0m\u001b[0m\n\u001b[0m\u001b[1;32m   3814\u001b[0m \u001b[0;34m\u001b[0m\u001b[0m\n\u001b[1;32m   3815\u001b[0m         \u001b[0;31m# take() does not accept boolean indexers\u001b[0m\u001b[0;34m\u001b[0m\u001b[0;34m\u001b[0m\u001b[0m\n",
            "\u001b[0;32m/usr/local/lib/python3.10/dist-packages/pandas/core/indexes/base.py\u001b[0m in \u001b[0;36m_get_indexer_strict\u001b[0;34m(self, key, axis_name)\u001b[0m\n\u001b[1;32m   6068\u001b[0m             \u001b[0mkeyarr\u001b[0m\u001b[0;34m,\u001b[0m \u001b[0mindexer\u001b[0m\u001b[0;34m,\u001b[0m \u001b[0mnew_indexer\u001b[0m \u001b[0;34m=\u001b[0m \u001b[0mself\u001b[0m\u001b[0;34m.\u001b[0m\u001b[0m_reindex_non_unique\u001b[0m\u001b[0;34m(\u001b[0m\u001b[0mkeyarr\u001b[0m\u001b[0;34m)\u001b[0m\u001b[0;34m\u001b[0m\u001b[0;34m\u001b[0m\u001b[0m\n\u001b[1;32m   6069\u001b[0m \u001b[0;34m\u001b[0m\u001b[0m\n\u001b[0;32m-> 6070\u001b[0;31m         \u001b[0mself\u001b[0m\u001b[0;34m.\u001b[0m\u001b[0m_raise_if_missing\u001b[0m\u001b[0;34m(\u001b[0m\u001b[0mkeyarr\u001b[0m\u001b[0;34m,\u001b[0m \u001b[0mindexer\u001b[0m\u001b[0;34m,\u001b[0m \u001b[0maxis_name\u001b[0m\u001b[0;34m)\u001b[0m\u001b[0;34m\u001b[0m\u001b[0;34m\u001b[0m\u001b[0m\n\u001b[0m\u001b[1;32m   6071\u001b[0m \u001b[0;34m\u001b[0m\u001b[0m\n\u001b[1;32m   6072\u001b[0m         \u001b[0mkeyarr\u001b[0m \u001b[0;34m=\u001b[0m \u001b[0mself\u001b[0m\u001b[0;34m.\u001b[0m\u001b[0mtake\u001b[0m\u001b[0;34m(\u001b[0m\u001b[0mindexer\u001b[0m\u001b[0;34m)\u001b[0m\u001b[0;34m\u001b[0m\u001b[0;34m\u001b[0m\u001b[0m\n",
            "\u001b[0;32m/usr/local/lib/python3.10/dist-packages/pandas/core/indexes/base.py\u001b[0m in \u001b[0;36m_raise_if_missing\u001b[0;34m(self, key, indexer, axis_name)\u001b[0m\n\u001b[1;32m   6128\u001b[0m                 \u001b[0;32mif\u001b[0m \u001b[0muse_interval_msg\u001b[0m\u001b[0;34m:\u001b[0m\u001b[0;34m\u001b[0m\u001b[0;34m\u001b[0m\u001b[0m\n\u001b[1;32m   6129\u001b[0m                     \u001b[0mkey\u001b[0m \u001b[0;34m=\u001b[0m \u001b[0mlist\u001b[0m\u001b[0;34m(\u001b[0m\u001b[0mkey\u001b[0m\u001b[0;34m)\u001b[0m\u001b[0;34m\u001b[0m\u001b[0;34m\u001b[0m\u001b[0m\n\u001b[0;32m-> 6130\u001b[0;31m                 \u001b[0;32mraise\u001b[0m \u001b[0mKeyError\u001b[0m\u001b[0;34m(\u001b[0m\u001b[0;34mf\"None of [{key}] are in the [{axis_name}]\"\u001b[0m\u001b[0;34m)\u001b[0m\u001b[0;34m\u001b[0m\u001b[0;34m\u001b[0m\u001b[0m\n\u001b[0m\u001b[1;32m   6131\u001b[0m \u001b[0;34m\u001b[0m\u001b[0m\n\u001b[1;32m   6132\u001b[0m             \u001b[0mnot_found\u001b[0m \u001b[0;34m=\u001b[0m \u001b[0mlist\u001b[0m\u001b[0;34m(\u001b[0m\u001b[0mensure_index\u001b[0m\u001b[0;34m(\u001b[0m\u001b[0mkey\u001b[0m\u001b[0;34m)\u001b[0m\u001b[0;34m[\u001b[0m\u001b[0mmissing_mask\u001b[0m\u001b[0;34m.\u001b[0m\u001b[0mnonzero\u001b[0m\u001b[0;34m(\u001b[0m\u001b[0;34m)\u001b[0m\u001b[0;34m[\u001b[0m\u001b[0;36m0\u001b[0m\u001b[0;34m]\u001b[0m\u001b[0;34m]\u001b[0m\u001b[0;34m.\u001b[0m\u001b[0munique\u001b[0m\u001b[0;34m(\u001b[0m\u001b[0;34m)\u001b[0m\u001b[0;34m)\u001b[0m\u001b[0;34m\u001b[0m\u001b[0;34m\u001b[0m\u001b[0m\n",
            "\u001b[0;31mKeyError\u001b[0m: \"None of [Index(['NEW_AGE', 'BMI_CAT'], dtype='object')] are in the [columns]\""
          ]
        }
      ]
    },
    {
      "cell_type": "markdown",
      "source": [
        "<a id=\"17\"></a> <br>\n",
        "# Feature Scaling"
      ],
      "metadata": {
        "execution": {
          "iopub.status.busy": "2023-08-07T14:16:35.092763Z",
          "iopub.execute_input": "2023-08-07T14:16:35.093296Z",
          "iopub.status.idle": "2023-08-07T14:16:35.131043Z",
          "shell.execute_reply.started": "2023-08-07T14:16:35.09326Z",
          "shell.execute_reply": "2023-08-07T14:16:35.129263Z"
        },
        "id": "oBgylzU3h4sV"
      }
    },
    {
      "cell_type": "code",
      "source": [
        "rs=RobustScaler()\n",
        "df[num_cols] =rs.fit_transform(df[num_cols])\n",
        "\n",
        "df.head()"
      ],
      "metadata": {
        "execution": {
          "iopub.status.busy": "2023-08-23T05:30:46.177608Z",
          "iopub.execute_input": "2023-08-23T05:30:46.178008Z",
          "iopub.status.idle": "2023-08-23T05:30:46.207351Z",
          "shell.execute_reply.started": "2023-08-23T05:30:46.177974Z",
          "shell.execute_reply": "2023-08-23T05:30:46.206038Z"
        },
        "trusted": true,
        "colab": {
          "base_uri": "https://localhost:8080/",
          "height": 226
        },
        "id": "BNHAsaBfh4sV",
        "outputId": "1f2ac256-4595-4e8f-bd5e-1f7aea8239e8"
      },
      "execution_count": null,
      "outputs": [
        {
          "output_type": "execute_result",
          "data": {
            "text/plain": [
              "   Pregnancies  Glucose  BloodPressure  SkinThickness  Insulin    BMI  DiabetesPedigreeFunction    Age  Outcome  NEW_AGE_mid_adult  NEW_AGE_senior  BMI_CAT_obese  BMI_CAT_overweight  BMI_CAT_underweight\n",
              "0        0.600    0.738          0.000          0.498    2.050  0.158                     0.665  1.235    1.000                  1               0              1                   0                    0\n",
              "1       -0.400   -0.762         -0.375          0.000   -0.741 -0.603                    -0.056  0.118    0.000                  1               0              0                   1                    0\n",
              "2        1.000    1.571         -0.500          0.266    1.084 -0.962                     0.783  0.176    1.000                  1               0              0                   0                    0\n",
              "3       -0.400   -0.667         -0.375         -0.498   -0.361 -0.440                    -0.537 -0.471    0.000                  0               0              0                   1                    0\n",
              "4       -0.600    0.476         -2.000          0.498    0.382  1.190                     5.008  0.235    1.000                  1               0              1                   0                    0"
            ],
            "text/html": [
              "\n",
              "  <div id=\"df-992ad1c0-4670-4335-8359-a3451d3c5d51\" class=\"colab-df-container\">\n",
              "    <div>\n",
              "<style scoped>\n",
              "    .dataframe tbody tr th:only-of-type {\n",
              "        vertical-align: middle;\n",
              "    }\n",
              "\n",
              "    .dataframe tbody tr th {\n",
              "        vertical-align: top;\n",
              "    }\n",
              "\n",
              "    .dataframe thead th {\n",
              "        text-align: right;\n",
              "    }\n",
              "</style>\n",
              "<table border=\"1\" class=\"dataframe\">\n",
              "  <thead>\n",
              "    <tr style=\"text-align: right;\">\n",
              "      <th></th>\n",
              "      <th>Pregnancies</th>\n",
              "      <th>Glucose</th>\n",
              "      <th>BloodPressure</th>\n",
              "      <th>SkinThickness</th>\n",
              "      <th>Insulin</th>\n",
              "      <th>BMI</th>\n",
              "      <th>DiabetesPedigreeFunction</th>\n",
              "      <th>Age</th>\n",
              "      <th>Outcome</th>\n",
              "      <th>NEW_AGE_mid_adult</th>\n",
              "      <th>NEW_AGE_senior</th>\n",
              "      <th>BMI_CAT_obese</th>\n",
              "      <th>BMI_CAT_overweight</th>\n",
              "      <th>BMI_CAT_underweight</th>\n",
              "    </tr>\n",
              "  </thead>\n",
              "  <tbody>\n",
              "    <tr>\n",
              "      <th>0</th>\n",
              "      <td>0.600</td>\n",
              "      <td>0.738</td>\n",
              "      <td>0.000</td>\n",
              "      <td>0.498</td>\n",
              "      <td>2.050</td>\n",
              "      <td>0.158</td>\n",
              "      <td>0.665</td>\n",
              "      <td>1.235</td>\n",
              "      <td>1.000</td>\n",
              "      <td>1</td>\n",
              "      <td>0</td>\n",
              "      <td>1</td>\n",
              "      <td>0</td>\n",
              "      <td>0</td>\n",
              "    </tr>\n",
              "    <tr>\n",
              "      <th>1</th>\n",
              "      <td>-0.400</td>\n",
              "      <td>-0.762</td>\n",
              "      <td>-0.375</td>\n",
              "      <td>0.000</td>\n",
              "      <td>-0.741</td>\n",
              "      <td>-0.603</td>\n",
              "      <td>-0.056</td>\n",
              "      <td>0.118</td>\n",
              "      <td>0.000</td>\n",
              "      <td>1</td>\n",
              "      <td>0</td>\n",
              "      <td>0</td>\n",
              "      <td>1</td>\n",
              "      <td>0</td>\n",
              "    </tr>\n",
              "    <tr>\n",
              "      <th>2</th>\n",
              "      <td>1.000</td>\n",
              "      <td>1.571</td>\n",
              "      <td>-0.500</td>\n",
              "      <td>0.266</td>\n",
              "      <td>1.084</td>\n",
              "      <td>-0.962</td>\n",
              "      <td>0.783</td>\n",
              "      <td>0.176</td>\n",
              "      <td>1.000</td>\n",
              "      <td>1</td>\n",
              "      <td>0</td>\n",
              "      <td>0</td>\n",
              "      <td>0</td>\n",
              "      <td>0</td>\n",
              "    </tr>\n",
              "    <tr>\n",
              "      <th>3</th>\n",
              "      <td>-0.400</td>\n",
              "      <td>-0.667</td>\n",
              "      <td>-0.375</td>\n",
              "      <td>-0.498</td>\n",
              "      <td>-0.361</td>\n",
              "      <td>-0.440</td>\n",
              "      <td>-0.537</td>\n",
              "      <td>-0.471</td>\n",
              "      <td>0.000</td>\n",
              "      <td>0</td>\n",
              "      <td>0</td>\n",
              "      <td>0</td>\n",
              "      <td>1</td>\n",
              "      <td>0</td>\n",
              "    </tr>\n",
              "    <tr>\n",
              "      <th>4</th>\n",
              "      <td>-0.600</td>\n",
              "      <td>0.476</td>\n",
              "      <td>-2.000</td>\n",
              "      <td>0.498</td>\n",
              "      <td>0.382</td>\n",
              "      <td>1.190</td>\n",
              "      <td>5.008</td>\n",
              "      <td>0.235</td>\n",
              "      <td>1.000</td>\n",
              "      <td>1</td>\n",
              "      <td>0</td>\n",
              "      <td>1</td>\n",
              "      <td>0</td>\n",
              "      <td>0</td>\n",
              "    </tr>\n",
              "  </tbody>\n",
              "</table>\n",
              "</div>\n",
              "    <div class=\"colab-df-buttons\">\n",
              "\n",
              "  <div class=\"colab-df-container\">\n",
              "    <button class=\"colab-df-convert\" onclick=\"convertToInteractive('df-992ad1c0-4670-4335-8359-a3451d3c5d51')\"\n",
              "            title=\"Convert this dataframe to an interactive table.\"\n",
              "            style=\"display:none;\">\n",
              "\n",
              "  <svg xmlns=\"http://www.w3.org/2000/svg\" height=\"24px\" viewBox=\"0 -960 960 960\">\n",
              "    <path d=\"M120-120v-720h720v720H120Zm60-500h600v-160H180v160Zm220 220h160v-160H400v160Zm0 220h160v-160H400v160ZM180-400h160v-160H180v160Zm440 0h160v-160H620v160ZM180-180h160v-160H180v160Zm440 0h160v-160H620v160Z\"/>\n",
              "  </svg>\n",
              "    </button>\n",
              "\n",
              "  <style>\n",
              "    .colab-df-container {\n",
              "      display:flex;\n",
              "      gap: 12px;\n",
              "    }\n",
              "\n",
              "    .colab-df-convert {\n",
              "      background-color: #E8F0FE;\n",
              "      border: none;\n",
              "      border-radius: 50%;\n",
              "      cursor: pointer;\n",
              "      display: none;\n",
              "      fill: #1967D2;\n",
              "      height: 32px;\n",
              "      padding: 0 0 0 0;\n",
              "      width: 32px;\n",
              "    }\n",
              "\n",
              "    .colab-df-convert:hover {\n",
              "      background-color: #E2EBFA;\n",
              "      box-shadow: 0px 1px 2px rgba(60, 64, 67, 0.3), 0px 1px 3px 1px rgba(60, 64, 67, 0.15);\n",
              "      fill: #174EA6;\n",
              "    }\n",
              "\n",
              "    .colab-df-buttons div {\n",
              "      margin-bottom: 4px;\n",
              "    }\n",
              "\n",
              "    [theme=dark] .colab-df-convert {\n",
              "      background-color: #3B4455;\n",
              "      fill: #D2E3FC;\n",
              "    }\n",
              "\n",
              "    [theme=dark] .colab-df-convert:hover {\n",
              "      background-color: #434B5C;\n",
              "      box-shadow: 0px 1px 3px 1px rgba(0, 0, 0, 0.15);\n",
              "      filter: drop-shadow(0px 1px 2px rgba(0, 0, 0, 0.3));\n",
              "      fill: #FFFFFF;\n",
              "    }\n",
              "  </style>\n",
              "\n",
              "    <script>\n",
              "      const buttonEl =\n",
              "        document.querySelector('#df-992ad1c0-4670-4335-8359-a3451d3c5d51 button.colab-df-convert');\n",
              "      buttonEl.style.display =\n",
              "        google.colab.kernel.accessAllowed ? 'block' : 'none';\n",
              "\n",
              "      async function convertToInteractive(key) {\n",
              "        const element = document.querySelector('#df-992ad1c0-4670-4335-8359-a3451d3c5d51');\n",
              "        const dataTable =\n",
              "          await google.colab.kernel.invokeFunction('convertToInteractive',\n",
              "                                                    [key], {});\n",
              "        if (!dataTable) return;\n",
              "\n",
              "        const docLinkHtml = 'Like what you see? Visit the ' +\n",
              "          '<a target=\"_blank\" href=https://colab.research.google.com/notebooks/data_table.ipynb>data table notebook</a>'\n",
              "          + ' to learn more about interactive tables.';\n",
              "        element.innerHTML = '';\n",
              "        dataTable['output_type'] = 'display_data';\n",
              "        await google.colab.output.renderOutput(dataTable, element);\n",
              "        const docLink = document.createElement('div');\n",
              "        docLink.innerHTML = docLinkHtml;\n",
              "        element.appendChild(docLink);\n",
              "      }\n",
              "    </script>\n",
              "  </div>\n",
              "\n",
              "\n",
              "<div id=\"df-b528915c-2ad3-43cf-8aec-e22eb403cfd8\">\n",
              "  <button class=\"colab-df-quickchart\" onclick=\"quickchart('df-b528915c-2ad3-43cf-8aec-e22eb403cfd8')\"\n",
              "            title=\"Suggest charts.\"\n",
              "            style=\"display:none;\">\n",
              "\n",
              "<svg xmlns=\"http://www.w3.org/2000/svg\" height=\"24px\"viewBox=\"0 0 24 24\"\n",
              "     width=\"24px\">\n",
              "    <g>\n",
              "        <path d=\"M19 3H5c-1.1 0-2 .9-2 2v14c0 1.1.9 2 2 2h14c1.1 0 2-.9 2-2V5c0-1.1-.9-2-2-2zM9 17H7v-7h2v7zm4 0h-2V7h2v10zm4 0h-2v-4h2v4z\"/>\n",
              "    </g>\n",
              "</svg>\n",
              "  </button>\n",
              "\n",
              "<style>\n",
              "  .colab-df-quickchart {\n",
              "    background-color: #E8F0FE;\n",
              "    border: none;\n",
              "    border-radius: 50%;\n",
              "    cursor: pointer;\n",
              "    display: none;\n",
              "    fill: #1967D2;\n",
              "    height: 32px;\n",
              "    padding: 0 0 0 0;\n",
              "    width: 32px;\n",
              "  }\n",
              "\n",
              "  .colab-df-quickchart:hover {\n",
              "    background-color: #E2EBFA;\n",
              "    box-shadow: 0px 1px 2px rgba(60, 64, 67, 0.3), 0px 1px 3px 1px rgba(60, 64, 67, 0.15);\n",
              "    fill: #174EA6;\n",
              "  }\n",
              "\n",
              "  [theme=dark] .colab-df-quickchart {\n",
              "    background-color: #3B4455;\n",
              "    fill: #D2E3FC;\n",
              "  }\n",
              "\n",
              "  [theme=dark] .colab-df-quickchart:hover {\n",
              "    background-color: #434B5C;\n",
              "    box-shadow: 0px 1px 3px 1px rgba(0, 0, 0, 0.15);\n",
              "    filter: drop-shadow(0px 1px 2px rgba(0, 0, 0, 0.3));\n",
              "    fill: #FFFFFF;\n",
              "  }\n",
              "</style>\n",
              "\n",
              "  <script>\n",
              "    async function quickchart(key) {\n",
              "      const charts = await google.colab.kernel.invokeFunction(\n",
              "          'suggestCharts', [key], {});\n",
              "    }\n",
              "    (() => {\n",
              "      let quickchartButtonEl =\n",
              "        document.querySelector('#df-b528915c-2ad3-43cf-8aec-e22eb403cfd8 button');\n",
              "      quickchartButtonEl.style.display =\n",
              "        google.colab.kernel.accessAllowed ? 'block' : 'none';\n",
              "    })();\n",
              "  </script>\n",
              "</div>\n",
              "    </div>\n",
              "  </div>\n"
            ]
          },
          "metadata": {},
          "execution_count": 51
        }
      ]
    },
    {
      "cell_type": "markdown",
      "source": [
        "<a id=\"18\"></a> <br>\n",
        "# 9.Model Building and Evaluation"
      ],
      "metadata": {
        "id": "-cWSdj8Lh4sV"
      }
    },
    {
      "cell_type": "markdown",
      "source": [
        "<a id=\"19\"></a> <br>\n",
        "# LogisticRegression"
      ],
      "metadata": {
        "id": "iuA456qSh4sV"
      }
    },
    {
      "cell_type": "code",
      "source": [
        "y=df[\"Outcome\"]\n",
        "X=df.drop([\"Outcome\"], axis=1)\n",
        "X_train, X_test, y_train, y_test = train_test_split(X, y, test_size=0.2)\n",
        "\n",
        "log_model=LogisticRegression().fit(X_train, y_train)\n",
        "y_pred= log_model.predict(X_test)\n",
        "y_prob= log_model.predict_proba(X_test)[:,1]\n"
      ],
      "metadata": {
        "execution": {
          "iopub.status.busy": "2023-08-23T05:30:51.043283Z",
          "iopub.execute_input": "2023-08-23T05:30:51.043936Z",
          "iopub.status.idle": "2023-08-23T05:30:51.077307Z",
          "shell.execute_reply.started": "2023-08-23T05:30:51.043890Z",
          "shell.execute_reply": "2023-08-23T05:30:51.076037Z"
        },
        "trusted": true,
        "id": "MBcGm2c9h4sV"
      },
      "execution_count": null,
      "outputs": []
    },
    {
      "cell_type": "code",
      "source": [
        "#Evaluation of LogisticRegression\n",
        "\n",
        "print(classification_report(y_test, y_pred))\n",
        "\n",
        "#accuracy : 0.71\n",
        "#f1-score : 0.54\n",
        "#recall   : 0.57\n",
        "#precision: 0.51\n"
      ],
      "metadata": {
        "execution": {
          "iopub.status.busy": "2023-08-23T05:30:53.921998Z",
          "iopub.execute_input": "2023-08-23T05:30:53.922433Z",
          "iopub.status.idle": "2023-08-23T05:30:53.941143Z",
          "shell.execute_reply.started": "2023-08-23T05:30:53.922398Z",
          "shell.execute_reply": "2023-08-23T05:30:53.940022Z"
        },
        "trusted": true,
        "id": "TX7z9Pr7h4sW",
        "outputId": "d9c29c00-b301-4e39-87bf-4176a4790ed0"
      },
      "execution_count": null,
      "outputs": [
        {
          "name": "stdout",
          "text": "              precision    recall  f1-score   support\n\n         0.0       0.81      0.80      0.81        99\n         1.0       0.65      0.67      0.66        55\n\n    accuracy                           0.75       154\n   macro avg       0.73      0.74      0.73       154\nweighted avg       0.76      0.75      0.75       154\n\n",
          "output_type": "stream"
        }
      ]
    },
    {
      "cell_type": "code",
      "source": [
        "#ROC AUC\n",
        "\n",
        "RocCurveDisplay.from_estimator(log_model, X_test, y_test)\n",
        "plt.title('ROC Curve')\n",
        "plt.plot([0, 1], [0, 1], 'r--')\n",
        "plt.show()\n",
        "\n",
        "roc_auc_score(y_test, y_prob) #0.80\n",
        "\n"
      ],
      "metadata": {
        "execution": {
          "iopub.status.busy": "2023-08-23T05:30:56.849868Z",
          "iopub.execute_input": "2023-08-23T05:30:56.850282Z",
          "iopub.status.idle": "2023-08-23T05:30:57.172327Z",
          "shell.execute_reply.started": "2023-08-23T05:30:56.850249Z",
          "shell.execute_reply": "2023-08-23T05:30:57.171036Z"
        },
        "trusted": true,
        "colab": {
          "base_uri": "https://localhost:8080/",
          "height": 489
        },
        "id": "kcC9Wu4rh4sW",
        "outputId": "12018fea-1f89-4fb7-a56f-281246498ecf"
      },
      "execution_count": null,
      "outputs": [
        {
          "output_type": "display_data",
          "data": {
            "text/plain": [
              "<Figure size 640x480 with 1 Axes>"
            ],
            "image/png": "[encoded data removed]"
          },
          "metadata": {}
        },
        {
          "output_type": "execute_result",
          "data": {
            "text/plain": [
              "0.8816115702479339"
            ]
          },
          "metadata": {},
          "execution_count": 53
        }
      ]
    },
    {
      "cell_type": "code",
      "source": [
        "#5-Fold Cross-Validation\n",
        "\n",
        "#We will use all dataset for 5-fold cross-validation since the dataset is not large enough\n",
        "\n",
        "cv_results=cross_validate(log_model,\n",
        "                          X,\n",
        "                          y,\n",
        "                         cv=5,\n",
        "                         scoring=[\"accuracy\",\"precision\", \"recall\", \"f1\", \"roc_auc\"])\n",
        "\n",
        "print(cv_results[\"test_accuracy\"].mean())\n",
        "print(cv_results[\"test_precision\"].mean())\n",
        "print(cv_results[\"test_recall\"].mean())\n",
        "print(cv_results[\"test_f1\"].mean())\n",
        "\n",
        "#Accuracy  : 0.78\n",
        "#Precision : 0.72\n",
        "#Recall    : 0.62\n",
        "#f1        : 0.66"
      ],
      "metadata": {
        "execution": {
          "iopub.status.busy": "2023-08-23T05:31:00.261208Z",
          "iopub.execute_input": "2023-08-23T05:31:00.261587Z",
          "iopub.status.idle": "2023-08-23T05:31:00.441350Z",
          "shell.execute_reply.started": "2023-08-23T05:31:00.261556Z",
          "shell.execute_reply": "2023-08-23T05:31:00.440229Z"
        },
        "trusted": true,
        "colab": {
          "base_uri": "https://localhost:8080/"
        },
        "id": "qaaMzohUh4sW",
        "outputId": "7d9fe4d3-1255-4e5e-b997-7ea8f48e7c14"
      },
      "execution_count": null,
      "outputs": [
        {
          "output_type": "stream",
          "name": "stdout",
          "text": [
            "0.7799677446736271\n",
            "0.7222790684492812\n",
            "0.604472396925227\n",
            "0.6569005862844224\n"
          ]
        }
      ]
    },
    {
      "cell_type": "markdown",
      "source": [
        "<a id=\"20\"></a> <br>\n",
        "# KNN"
      ],
      "metadata": {
        "id": "47Gbj5Fmh4sW"
      }
    },
    {
      "cell_type": "code",
      "source": [
        "knn_model=KNeighborsClassifier().fit(X_train,y_train)\n",
        "y_pred= knn_model.predict(X_test)\n",
        "y_prob= knn_model.predict_proba(X_test)[:,1]"
      ],
      "metadata": {
        "execution": {
          "iopub.status.busy": "2023-08-23T05:31:44.206606Z",
          "iopub.execute_input": "2023-08-23T05:31:44.207914Z",
          "iopub.status.idle": "2023-08-23T05:31:44.232586Z",
          "shell.execute_reply.started": "2023-08-23T05:31:44.207869Z",
          "shell.execute_reply": "2023-08-23T05:31:44.231552Z"
        },
        "trusted": true,
        "id": "t_FIPF6sh4sW"
      },
      "execution_count": null,
      "outputs": []
    },
    {
      "cell_type": "code",
      "source": [
        "#Evaluation of KNN\n",
        "\n",
        "print(classification_report(y_test,y_pred))\n",
        "\n",
        "#Accuracy  : 0.77\n",
        "#Precision : 0.60\n",
        "#Recall    : 0.63\n",
        "#f1        : 0.62\n"
      ],
      "metadata": {
        "execution": {
          "iopub.status.busy": "2023-08-23T05:31:47.545693Z",
          "iopub.execute_input": "2023-08-23T05:31:47.546853Z",
          "iopub.status.idle": "2023-08-23T05:31:47.561685Z",
          "shell.execute_reply.started": "2023-08-23T05:31:47.546814Z",
          "shell.execute_reply": "2023-08-23T05:31:47.560421Z"
        },
        "trusted": true,
        "colab": {
          "base_uri": "https://localhost:8080/"
        },
        "id": "b8X8hvI2h4sW",
        "outputId": "86f565aa-3fd8-4b0b-b544-cd69ca31adc5"
      },
      "execution_count": null,
      "outputs": [
        {
          "output_type": "stream",
          "name": "stdout",
          "text": [
            "              precision    recall  f1-score   support\n",
            "\n",
            "         0.0       0.83      0.83      0.83       110\n",
            "         1.0       0.57      0.57      0.57        44\n",
            "\n",
            "    accuracy                           0.75       154\n",
            "   macro avg       0.70      0.70      0.70       154\n",
            "weighted avg       0.75      0.75      0.75       154\n",
            "\n"
          ]
        }
      ]
    },
    {
      "cell_type": "code",
      "source": [
        "#ROC AUC\n",
        "roc_auc_score(y_test,y_prob) #0.79"
      ],
      "metadata": {
        "execution": {
          "iopub.status.busy": "2023-08-23T05:31:50.057258Z",
          "iopub.execute_input": "2023-08-23T05:31:50.058066Z",
          "iopub.status.idle": "2023-08-23T05:31:50.068869Z",
          "shell.execute_reply.started": "2023-08-23T05:31:50.058021Z",
          "shell.execute_reply": "2023-08-23T05:31:50.067582Z"
        },
        "trusted": true,
        "colab": {
          "base_uri": "https://localhost:8080/"
        },
        "id": "rLDSHgZWh4sX",
        "outputId": "f0fef0ff-1293-46eb-a464-e5aeac41b297"
      },
      "execution_count": null,
      "outputs": [
        {
          "output_type": "execute_result",
          "data": {
            "text/plain": [
              "0.809607438016529"
            ]
          },
          "metadata": {},
          "execution_count": 57
        }
      ]
    },
    {
      "cell_type": "code",
      "source": [
        "#5-Fold Cross-Validation\n",
        "\n",
        "cv_results=cross_validate(knn_model,\n",
        "                          X,\n",
        "                          y,\n",
        "                         cv=5,\n",
        "                         scoring=[\"accuracy\",\"precision\", \"recall\", \"f1\", \"roc_auc\"])\n",
        "\n",
        "print(cv_results[\"test_accuracy\"].mean())\n",
        "print(cv_results[\"test_precision\"].mean())\n",
        "print(cv_results[\"test_recall\"].mean())\n",
        "print(cv_results[\"test_f1\"].mean())\n",
        "print(cv_results[\"test_roc_auc\"].mean())\n",
        "\n",
        "#Accuracy  : 0.77\n",
        "#Precision : 0.70\n",
        "#Recall    : 0.63\n",
        "#f1        : 0.66\n",
        "#roc auc   : 0.83"
      ],
      "metadata": {
        "execution": {
          "iopub.status.busy": "2023-08-23T05:31:52.289503Z",
          "iopub.execute_input": "2023-08-23T05:31:52.290296Z",
          "iopub.status.idle": "2023-08-23T05:31:52.439377Z",
          "shell.execute_reply.started": "2023-08-23T05:31:52.290257Z",
          "shell.execute_reply": "2023-08-23T05:31:52.438083Z"
        },
        "trusted": true,
        "id": "PE7hbdJWh4sX",
        "outputId": "be5f265e-4ac6-41ab-ea84-e074c1fcc0f4"
      },
      "execution_count": null,
      "outputs": [
        {
          "name": "stdout",
          "text": "0.774823868941516\n0.7033141451626743\n0.6309573724668064\n0.6621087706017421\n0.8357410901467505\n",
          "output_type": "stream"
        }
      ]
    },
    {
      "cell_type": "code",
      "source": [
        "#Hyperparameter Optimization\n",
        "\n",
        "cv_results=cross_validate(knn_model,\n",
        "                          X,\n",
        "                          y,\n",
        "                         cv=5,\n",
        "                         scoring=[\"accuracy\",\"precision\", \"recall\", \"f1\", \"roc_auc\"])\n",
        "\n",
        "print(cv_results[\"test_accuracy\"].mean())\n",
        "print(cv_results[\"test_precision\"].mean())\n",
        "print(cv_results[\"test_recall\"].mean())\n",
        "print(cv_results[\"test_f1\"].mean())\n",
        "print(cv_results[\"test_roc_auc\"].mean())\n",
        "\n",
        "#optimal n : 24"
      ],
      "metadata": {
        "execution": {
          "iopub.status.busy": "2023-08-23T05:31:55.986174Z",
          "iopub.execute_input": "2023-08-23T05:31:55.986596Z",
          "iopub.status.idle": "2023-08-23T05:31:56.141216Z",
          "shell.execute_reply.started": "2023-08-23T05:31:55.986560Z",
          "shell.execute_reply": "2023-08-23T05:31:56.140026Z"
        },
        "trusted": true,
        "colab": {
          "base_uri": "https://localhost:8080/"
        },
        "id": "IRiy6LBzh4sX",
        "outputId": "64f78c77-6c6c-4028-d843-8c3d5d7b9580"
      },
      "execution_count": null,
      "outputs": [
        {
          "output_type": "stream",
          "name": "stdout",
          "text": [
            "0.7839572192513369\n",
            "0.7070948839305837\n",
            "0.6572327044025157\n",
            "0.6797397047397047\n",
            "0.8418242487770791\n"
          ]
        }
      ]
    },
    {
      "cell_type": "code",
      "source": [
        "#Final KNN Model\n",
        "knn_final=knn_model.set_params(**knn_gs_best.best_params_).fit(X_train,y_train)\n",
        "y_pred= knn_final.predict(X_test)\n",
        "y_prob= knn_final.predict_proba(X_test)[:,1]"
      ],
      "metadata": {
        "execution": {
          "iopub.status.busy": "2023-08-23T05:32:01.078449Z",
          "iopub.execute_input": "2023-08-23T05:32:01.078835Z",
          "iopub.status.idle": "2023-08-23T05:32:01.118119Z",
          "shell.execute_reply.started": "2023-08-23T05:32:01.078804Z",
          "shell.execute_reply": "2023-08-23T05:32:01.116072Z"
        },
        "trusted": true,
        "colab": {
          "base_uri": "https://localhost:8080/",
          "height": 227
        },
        "id": "ReJQNR9ph4sX",
        "outputId": "89605569-231a-4ec5-9d99-b087d2882a5d"
      },
      "execution_count": null,
      "outputs": [
        {
          "output_type": "error",
          "ename": "NameError",
          "evalue": "ignored",
          "traceback": [
            "\u001b[0;31m---------------------------------------------------------------------------\u001b[0m",
            "\u001b[0;31mNameError\u001b[0m                                 Traceback (most recent call last)",
            "\u001b[0;32m<ipython-input-59-6911d1bdb523>\u001b[0m in \u001b[0;36m<cell line: 2>\u001b[0;34m()\u001b[0m\n\u001b[1;32m      1\u001b[0m \u001b[0;31m#Final KNN Model\u001b[0m\u001b[0;34m\u001b[0m\u001b[0;34m\u001b[0m\u001b[0m\n\u001b[0;32m----> 2\u001b[0;31m \u001b[0mknn_final\u001b[0m\u001b[0;34m=\u001b[0m\u001b[0mknn_model\u001b[0m\u001b[0;34m.\u001b[0m\u001b[0mset_params\u001b[0m\u001b[0;34m(\u001b[0m\u001b[0;34m**\u001b[0m\u001b[0mknn_gs_best\u001b[0m\u001b[0;34m.\u001b[0m\u001b[0mbest_params_\u001b[0m\u001b[0;34m)\u001b[0m\u001b[0;34m.\u001b[0m\u001b[0mfit\u001b[0m\u001b[0;34m(\u001b[0m\u001b[0mX_train\u001b[0m\u001b[0;34m,\u001b[0m\u001b[0my_train\u001b[0m\u001b[0;34m)\u001b[0m\u001b[0;34m\u001b[0m\u001b[0;34m\u001b[0m\u001b[0m\n\u001b[0m\u001b[1;32m      3\u001b[0m \u001b[0my_pred\u001b[0m\u001b[0;34m=\u001b[0m \u001b[0mknn_final\u001b[0m\u001b[0;34m.\u001b[0m\u001b[0mpredict\u001b[0m\u001b[0;34m(\u001b[0m\u001b[0mX_test\u001b[0m\u001b[0;34m)\u001b[0m\u001b[0;34m\u001b[0m\u001b[0;34m\u001b[0m\u001b[0m\n\u001b[1;32m      4\u001b[0m \u001b[0my_prob\u001b[0m\u001b[0;34m=\u001b[0m \u001b[0mknn_final\u001b[0m\u001b[0;34m.\u001b[0m\u001b[0mpredict_proba\u001b[0m\u001b[0;34m(\u001b[0m\u001b[0mX_test\u001b[0m\u001b[0;34m)\u001b[0m\u001b[0;34m[\u001b[0m\u001b[0;34m:\u001b[0m\u001b[0;34m,\u001b[0m\u001b[0;36m1\u001b[0m\u001b[0;34m]\u001b[0m\u001b[0;34m\u001b[0m\u001b[0;34m\u001b[0m\u001b[0m\n",
            "\u001b[0;31mNameError\u001b[0m: name 'knn_gs_best' is not defined"
          ]
        }
      ]
    },
    {
      "cell_type": "code",
      "source": [
        "#Evaluation of Final KNN Model\n",
        "\n",
        "#5-Fold Cross-Validation\n",
        "\n",
        "cv_results=cross_validate(knn_final,\n",
        "                          X,\n",
        "                          y,\n",
        "                         cv=5,\n",
        "                         scoring=[\"accuracy\",\"precision\", \"recall\", \"f1\", \"roc_auc\"])\n",
        "\n",
        "print(cv_results[\"test_accuracy\"].mean())\n",
        "print(cv_results[\"test_precision\"].mean())\n",
        "print(cv_results[\"test_recall\"].mean())\n",
        "print(cv_results[\"test_f1\"].mean())\n",
        "print(cv_results[\"test_roc_auc\"].mean())\n",
        "\n",
        "#Accuracy  : 0.79\n",
        "#Precision : 0.76\n",
        "#Recall    : 0.60\n",
        "#f1        : 0.62\n",
        "#roc auc   : 0.86"
      ],
      "metadata": {
        "execution": {
          "iopub.status.busy": "2023-08-23T05:31:25.805551Z",
          "iopub.execute_input": "2023-08-23T05:31:25.806505Z",
          "iopub.status.idle": "2023-08-23T05:31:25.849968Z",
          "shell.execute_reply.started": "2023-08-23T05:31:25.806462Z",
          "shell.execute_reply": "2023-08-23T05:31:25.848299Z"
        },
        "trusted": true,
        "colab": {
          "base_uri": "https://localhost:8080/",
          "height": 245
        },
        "id": "kEZbe-Ngh4sX",
        "outputId": "1d1be85c-4da1-43c9-981e-f7a9934d44f4"
      },
      "execution_count": null,
      "outputs": [
        {
          "output_type": "error",
          "ename": "NameError",
          "evalue": "ignored",
          "traceback": [
            "\u001b[0;31m---------------------------------------------------------------------------\u001b[0m",
            "\u001b[0;31mNameError\u001b[0m                                 Traceback (most recent call last)",
            "\u001b[0;32m<ipython-input-60-e0c6974252b9>\u001b[0m in \u001b[0;36m<cell line: 5>\u001b[0;34m()\u001b[0m\n\u001b[1;32m      3\u001b[0m \u001b[0;31m#5-Fold Cross-Validation\u001b[0m\u001b[0;34m\u001b[0m\u001b[0;34m\u001b[0m\u001b[0m\n\u001b[1;32m      4\u001b[0m \u001b[0;34m\u001b[0m\u001b[0m\n\u001b[0;32m----> 5\u001b[0;31m cv_results=cross_validate(knn_final,\n\u001b[0m\u001b[1;32m      6\u001b[0m                           \u001b[0mX\u001b[0m\u001b[0;34m,\u001b[0m\u001b[0;34m\u001b[0m\u001b[0;34m\u001b[0m\u001b[0m\n\u001b[1;32m      7\u001b[0m                           \u001b[0my\u001b[0m\u001b[0;34m,\u001b[0m\u001b[0;34m\u001b[0m\u001b[0;34m\u001b[0m\u001b[0m\n",
            "\u001b[0;31mNameError\u001b[0m: name 'knn_final' is not defined"
          ]
        }
      ]
    },
    {
      "cell_type": "markdown",
      "source": [
        "<a id=\"21\"></a> <br>\n",
        "# 10.Conclusion"
      ],
      "metadata": {
        "id": "bimtAutbh4sY"
      }
    },
    {
      "cell_type": "markdown",
      "source": [
        "In this project, we utilized the Pima Indians Diabetes Database to conduct Exploratory Data Analysis, analyze missing and outlier data, perform feature engineering and feature extraction for data preparation in modeling. Subsequently, we used the K-Nearest Neighbors (KNN) and Logistic Regression models to predict diabetes occurrence among individuals. Due to the dataset's small size and lack of significant balance, we chose to assess model performance using recall and F1 scores instead of accuracy scores. This evaluation strategy highlighted the superiority of the Logistic Regression model over the KNN model even though we observe that KNN's accuracy is slightly higher than Logistic Regression Model. While more sophisticated machine learning models could have been used, we specifically selected these two models for this project and prefer Logistic Regression over KNN."
      ],
      "metadata": {
        "id": "-fHUruL1h4sY"
      }
    }
  ]
}